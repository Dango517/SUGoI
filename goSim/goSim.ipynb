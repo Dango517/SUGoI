{
 "cells": [
  {
   "cell_type": "code",
   "execution_count": 1,
   "metadata": {
    "collapsed": true,
    "ExecuteTime": {
     "end_time": "2023-05-06T15:39:48.016272Z",
     "start_time": "2023-05-06T15:39:47.966777Z"
    }
   },
   "outputs": [
    {
     "data": {
      "text/plain": "{'version': 1.0,\n 'p0': 'toru',\n 'p1': 'ゆー',\n 'p2': '黒崎',\n 'p3': 'kiriekouki',\n 'log': [{'hand': {'p0': 'しししし玉金香馬',\n    'p1': 'し王金銀銀香馬馬',\n    'p2': 'しししし角金銀香',\n    'p3': 'し角金銀飛飛香馬'},\n   'uchidashi': 2,\n   'score': [0, 0],\n   'game': [['2', 'し', '角'],\n    ['3', '角', '飛'],\n    ['3', '馬', '飛'],\n    ['3', 'し', '金'],\n    ['0', '金', 'し'],\n    ['0', 'し', 'し'],\n    ['1', 'し', '銀'],\n    ['2', '銀', 'し'],\n    ['2', 'し', 'し'],\n    ['2', '香', '金']]},\n  {'hand': {'p0': 'しししし角金香馬',\n    'p1': 'し玉金金銀銀銀飛',\n    'p2': 'しししし王角銀馬',\n    'p3': 'し金飛香香香馬馬'},\n   'uchidashi': 2,\n   'score': [30, 0],\n   'game': [['2', 'し', 'し'],\n    ['3', 'し', '香'],\n    ['3', '馬', '香'],\n    ['0', '香', 'し'],\n    ['2', 'し', '角'],\n    ['2', 'し', '馬'],\n    ['3', '馬', '香'],\n    ['3', '金', '飛']]},\n  {'hand': {'p0': 'し玉金金銀飛香香',\n    'p1': 'ししし角金銀銀馬',\n    'p2': 'ししし王角飛香馬',\n    'p3': 'ししし金銀香馬馬'},\n   'uchidashi': 3,\n   'score': [30, 40],\n   'game': [['3', 'し', '馬'],\n    ['2', '馬', '飛'],\n    ['2', 'し', '角'],\n    ['1', '角', '馬'],\n    ['1', 'し', '銀'],\n    ['2', '王', 'し'],\n    ['3', 'し', '銀'],\n    ['0', '銀', '香'],\n    ['2', '香', 'し']]},\n  {'hand': {'p0': 'しし金金銀飛香馬',\n    'p1': 'し王角金金飛香馬',\n    'p2': 'しししし玉銀銀銀',\n    'p3': 'ししし角香香馬馬'},\n   'uchidashi': 2,\n   'score': [40, 40],\n   'game': [['2', 'し', '銀'],\n    ['2', 'し', '銀'],\n    ['1', '王', '金'],\n    ['0', '金', '銀'],\n    ['0', 'し', '飛'],\n    ['1', '飛', '金'],\n    ['2', '王', '銀'],\n    ['2', 'し', 'し']]},\n  {'hand': {'p0': 'し玉角銀飛香香馬',\n    'p1': 'しし王金金銀飛馬',\n    'p2': 'しししし金銀銀香',\n    'p3': 'ししし角金香馬馬'},\n   'uchidashi': 2,\n   'score': [60, 40],\n   'game': [['2', 'し', '銀'],\n    ['1', '銀', '金'],\n    ['1', 'し', '金'],\n    ['2', '金', 'し'],\n    ['3', 'し', '馬'],\n    ['0', '馬', '銀'],\n    ['0', 'し', '香'],\n    ['3', '香', '金'],\n    ['0', '王', '香'],\n    ['0', '角', '飛']]},\n  {'hand': {'p0': 'ししし角金銀銀馬',\n    'p1': 'し玉角金飛飛香香',\n    'p2': 'ししし王金銀香馬',\n    'p3': 'ししし金銀香馬馬'},\n   'uchidashi': 0,\n   'score': [100, 40],\n   'game': [['0', 'し', '銀'],\n    ['3', '銀', '馬'],\n    ['2', '馬', '銀'],\n    ['2', 'し', 'し'],\n    ['3', 'し', '馬'],\n    ['0', '馬', '銀'],\n    ['1', '王', '飛'],\n    ['1', '香', '飛'],\n    ['1', 'し', '香'],\n    ['2', '香', '金'],\n    ['3', '金', '香'],\n    ['3', 'し', 'し']]},\n  {'hand': {'p0': 'し角金金金銀香香',\n    'p1': 'しししし玉銀香馬',\n    'p2': 'しし王角銀飛飛馬',\n    'p3': 'ししし金銀香馬馬'},\n   'uchidashi': 3,\n   'score': [100, 60],\n   'game': [['3', 'し', '馬'],\n    ['2', '馬', '飛'],\n    ['2', 'し', '飛'],\n    ['1', '王', '馬'],\n    ['1', 'し', 'し'],\n    ['2', 'し', '角'],\n    ['2', '銀', '王']]}]}"
     },
     "execution_count": 1,
     "metadata": {},
     "output_type": "execute_result"
    }
   ],
   "source": [
    "import yaml\n",
    "\n",
    "with open(\"../data/goita_kifu_2023-3-21-21-24-33.yaml\") as f:\n",
    "    data = yaml.safe_load(f)\n",
    "data"
   ]
  },
  {
   "cell_type": "code",
   "execution_count": 2,
   "outputs": [
    {
     "data": {
      "text/plain": "{'hand': {'p0': 'しししし玉金香馬',\n  'p1': 'し王金銀銀香馬馬',\n  'p2': 'しししし角金銀香',\n  'p3': 'し角金銀飛飛香馬'},\n 'uchidashi': 2,\n 'score': [0, 0],\n 'game': [['2', 'し', '角'],\n  ['3', '角', '飛'],\n  ['3', '馬', '飛'],\n  ['3', 'し', '金'],\n  ['0', '金', 'し'],\n  ['0', 'し', 'し'],\n  ['1', 'し', '銀'],\n  ['2', '銀', 'し'],\n  ['2', 'し', 'し'],\n  ['2', '香', '金']]}"
     },
     "execution_count": 2,
     "metadata": {},
     "output_type": "execute_result"
    }
   ],
   "source": [
    "log1 = data[\"log\"][0]\n",
    "log1"
   ],
   "metadata": {
    "collapsed": false,
    "ExecuteTime": {
     "end_time": "2023-05-06T15:39:48.020766Z",
     "start_time": "2023-05-06T15:39:48.018756Z"
    }
   }
  },
  {
   "cell_type": "code",
   "execution_count": 4,
   "outputs": [],
   "source": [
    "import pyGoita as pg\n",
    "from collections import Counter\n",
    "\n",
    "def convert_hands(dict_hands):\n",
    "    handsets = []\n",
    "    for string in dict_hands.values():\n",
    "        koma_reps = []\n",
    "        for s in string:\n",
    "            koma_reps.append(pg.Koma.from_str(s).name)\n",
    "        print(koma_reps)\n",
    "        komas = dict(Counter(koma_reps))\n",
    "        print(komas)\n",
    "        handsets.append(pg.Handset(**komas))\n",
    "    return handsets\n"
   ],
   "metadata": {
    "collapsed": false,
    "ExecuteTime": {
     "end_time": "2023-05-06T15:39:48.029388Z",
     "start_time": "2023-05-06T15:39:48.027866Z"
    }
   }
  },
  {
   "cell_type": "code",
   "execution_count": 5,
   "outputs": [
    {
     "name": "stdout",
     "output_type": "stream",
     "text": [
      "['SHI', 'SHI', 'SHI', 'SHI', 'GYK', 'KIN', 'GON', 'UMA']\n",
      "{'SHI': 4, 'GYK': 1, 'KIN': 1, 'GON': 1, 'UMA': 1}\n",
      "['SHI', 'GYK', 'KIN', 'GIN', 'GIN', 'GON', 'UMA', 'UMA']\n",
      "{'SHI': 1, 'GYK': 1, 'KIN': 1, 'GIN': 2, 'GON': 1, 'UMA': 2}\n",
      "['SHI', 'SHI', 'SHI', 'SHI', 'KAK', 'KIN', 'GIN', 'GON']\n",
      "{'SHI': 4, 'KAK': 1, 'KIN': 1, 'GIN': 1, 'GON': 1}\n",
      "['SHI', 'KAK', 'KIN', 'GIN', 'HSY', 'HSY', 'GON', 'UMA']\n",
      "{'SHI': 1, 'KAK': 1, 'KIN': 1, 'GIN': 1, 'HSY': 2, 'GON': 1, 'UMA': 1}\n"
     ]
    },
    {
     "data": {
      "text/plain": "[<pyGoita.Handset.Handset at 0x1074a69d0>,\n <pyGoita.Handset.Handset at 0x1074a6f10>,\n <pyGoita.Handset.Handset at 0x1074a6af0>,\n <pyGoita.Handset.Handset at 0x1074a66d0>]"
     },
     "execution_count": 5,
     "metadata": {},
     "output_type": "execute_result"
    }
   ],
   "source": [
    "convert_hands(log1[\"hand\"])"
   ],
   "metadata": {
    "collapsed": false,
    "ExecuteTime": {
     "end_time": "2023-05-06T15:39:48.033719Z",
     "start_time": "2023-05-06T15:39:48.031484Z"
    }
   }
  },
  {
   "cell_type": "code",
   "execution_count": 6,
   "outputs": [
    {
     "name": "stdout",
     "output_type": "stream",
     "text": [
      "['SHI', 'SHI', 'SHI', 'SHI', 'GYK', 'KIN', 'GON', 'UMA']\n",
      "{'SHI': 4, 'GYK': 1, 'KIN': 1, 'GON': 1, 'UMA': 1}\n",
      "['SHI', 'GYK', 'KIN', 'GIN', 'GIN', 'GON', 'UMA', 'UMA']\n",
      "{'SHI': 1, 'GYK': 1, 'KIN': 1, 'GIN': 2, 'GON': 1, 'UMA': 2}\n",
      "['SHI', 'SHI', 'SHI', 'SHI', 'KAK', 'KIN', 'GIN', 'GON']\n",
      "{'SHI': 4, 'KAK': 1, 'KIN': 1, 'GIN': 1, 'GON': 1}\n",
      "['SHI', 'KAK', 'KIN', 'GIN', 'HSY', 'HSY', 'GON', 'UMA']\n",
      "{'SHI': 1, 'KAK': 1, 'KIN': 1, 'GIN': 1, 'HSY': 2, 'GON': 1, 'UMA': 1}\n"
     ]
    },
    {
     "data": {
      "text/plain": "[{'played_player': -1,\n  'behavior': -1,\n  'hands': [{'SHI': 1,\n    'GON': 1,\n    'UMA': 1,\n    'KIN': 0,\n    'GIN': 0,\n    'KAK': 0,\n    'HSY': 0,\n    'GYK': 1},\n   {'SHI': 0,\n    'GON': 1,\n    'UMA': 2,\n    'KIN': 1,\n    'GIN': 1,\n    'KAK': 0,\n    'HSY': 0,\n    'GYK': 1},\n   {'SHI': 0,\n    'GON': 0,\n    'UMA': 0,\n    'KIN': 0,\n    'GIN': 0,\n    'KAK': 0,\n    'HSY': 0,\n    'GYK': 0},\n   {'SHI': 0,\n    'GON': 1,\n    'UMA': 0,\n    'KIN': 0,\n    'GIN': 1,\n    'KAK': 0,\n    'HSY': 0,\n    'GYK': 0}],\n  'board': [[[['NONE', False], ['NONE', False]],\n    [['NONE', False], ['NONE', False]],\n    [['NONE', False], ['NONE', False]],\n    [['NONE', False], ['NONE', False]]],\n   [[['NONE', False], ['NONE', False]],\n    [['NONE', False], ['NONE', False]],\n    [['NONE', False], ['NONE', False]],\n    [['NONE', False], ['NONE', False]]],\n   [[['NONE', False], ['NONE', False]],\n    [['NONE', False], ['NONE', False]],\n    [['NONE', False], ['NONE', False]],\n    [['NONE', False], ['NONE', False]]],\n   [[['NONE', False], ['NONE', False]],\n    [['NONE', False], ['NONE', False]],\n    [['NONE', False], ['NONE', False]],\n    [['NONE', False], ['NONE', False]]]]},\n {'played_player': 2,\n  'behavior': 6,\n  'hands': [{'SHI': 4,\n    'GON': 1,\n    'UMA': 1,\n    'KIN': 1,\n    'GIN': 0,\n    'KAK': 0,\n    'HSY': 0,\n    'GYK': 1},\n   {'SHI': 1,\n    'GON': 1,\n    'UMA': 2,\n    'KIN': 1,\n    'GIN': 2,\n    'KAK': 0,\n    'HSY': 0,\n    'GYK': 1},\n   {'SHI': 3,\n    'GON': 1,\n    'UMA': 0,\n    'KIN': 1,\n    'GIN': 1,\n    'KAK': 0,\n    'HSY': 0,\n    'GYK': 0},\n   {'SHI': 1,\n    'GON': 1,\n    'UMA': 1,\n    'KIN': 1,\n    'GIN': 1,\n    'KAK': 1,\n    'HSY': 2,\n    'GYK': 0}],\n  'board': [[[['NONE', False], ['NONE', False]],\n    [['NONE', False], ['NONE', False]],\n    [['NONE', False], ['NONE', False]],\n    [['NONE', False], ['NONE', False]]],\n   [[['NONE', False], ['NONE', False]],\n    [['NONE', False], ['NONE', False]],\n    [['NONE', False], ['NONE', False]],\n    [['NONE', False], ['NONE', False]]],\n   [[['SHI', True], ['KAK', False]],\n    [['NONE', False], ['NONE', False]],\n    [['NONE', False], ['NONE', False]],\n    [['NONE', False], ['NONE', False]]],\n   [[['NONE', False], ['NONE', False]],\n    [['NONE', False], ['NONE', False]],\n    [['NONE', False], ['NONE', False]],\n    [['NONE', False], ['NONE', False]]]]},\n {'played_player': 3,\n  'behavior': 7,\n  'hands': [{'SHI': 4,\n    'GON': 1,\n    'UMA': 1,\n    'KIN': 1,\n    'GIN': 0,\n    'KAK': 0,\n    'HSY': 0,\n    'GYK': 1},\n   {'SHI': 1,\n    'GON': 1,\n    'UMA': 2,\n    'KIN': 1,\n    'GIN': 2,\n    'KAK': 0,\n    'HSY': 0,\n    'GYK': 1},\n   {'SHI': 3,\n    'GON': 1,\n    'UMA': 0,\n    'KIN': 1,\n    'GIN': 1,\n    'KAK': 0,\n    'HSY': 0,\n    'GYK': 0},\n   {'SHI': 1,\n    'GON': 1,\n    'UMA': 1,\n    'KIN': 1,\n    'GIN': 1,\n    'KAK': 0,\n    'HSY': 1,\n    'GYK': 0}],\n  'board': [[[['NONE', False], ['NONE', False]],\n    [['NONE', False], ['NONE', False]],\n    [['NONE', False], ['NONE', False]],\n    [['NONE', False], ['NONE', False]]],\n   [[['NONE', False], ['NONE', False]],\n    [['NONE', False], ['NONE', False]],\n    [['NONE', False], ['NONE', False]],\n    [['NONE', False], ['NONE', False]]],\n   [[['SHI', True], ['KAK', False]],\n    [['NONE', False], ['NONE', False]],\n    [['NONE', False], ['NONE', False]],\n    [['NONE', False], ['NONE', False]]],\n   [[['KAK', False], ['HSY', False]],\n    [['NONE', False], ['NONE', False]],\n    [['NONE', False], ['NONE', False]],\n    [['NONE', False], ['NONE', False]]]]},\n {'played_player': 0,\n  'behavior': -1,\n  'hands': [{'SHI': 4,\n    'GON': 1,\n    'UMA': 1,\n    'KIN': 1,\n    'GIN': 0,\n    'KAK': 0,\n    'HSY': 0,\n    'GYK': 1},\n   {'SHI': 1,\n    'GON': 1,\n    'UMA': 2,\n    'KIN': 1,\n    'GIN': 2,\n    'KAK': 0,\n    'HSY': 0,\n    'GYK': 1},\n   {'SHI': 3,\n    'GON': 1,\n    'UMA': 0,\n    'KIN': 1,\n    'GIN': 1,\n    'KAK': 0,\n    'HSY': 0,\n    'GYK': 0},\n   {'SHI': 1,\n    'GON': 1,\n    'UMA': 1,\n    'KIN': 1,\n    'GIN': 1,\n    'KAK': 0,\n    'HSY': 1,\n    'GYK': 0}],\n  'board': [[[['NONE', False], ['NONE', False]],\n    [['NONE', False], ['NONE', False]],\n    [['NONE', False], ['NONE', False]],\n    [['NONE', False], ['NONE', False]]],\n   [[['NONE', False], ['NONE', False]],\n    [['NONE', False], ['NONE', False]],\n    [['NONE', False], ['NONE', False]],\n    [['NONE', False], ['NONE', False]]],\n   [[['SHI', True], ['KAK', False]],\n    [['NONE', False], ['NONE', False]],\n    [['NONE', False], ['NONE', False]],\n    [['NONE', False], ['NONE', False]]],\n   [[['KAK', False], ['HSY', False]],\n    [['NONE', False], ['NONE', False]],\n    [['NONE', False], ['NONE', False]],\n    [['NONE', False], ['NONE', False]]]]},\n {'played_player': 1,\n  'behavior': -1,\n  'hands': [{'SHI': 4,\n    'GON': 1,\n    'UMA': 1,\n    'KIN': 1,\n    'GIN': 0,\n    'KAK': 0,\n    'HSY': 0,\n    'GYK': 1},\n   {'SHI': 1,\n    'GON': 1,\n    'UMA': 2,\n    'KIN': 1,\n    'GIN': 2,\n    'KAK': 0,\n    'HSY': 0,\n    'GYK': 1},\n   {'SHI': 3,\n    'GON': 1,\n    'UMA': 0,\n    'KIN': 1,\n    'GIN': 1,\n    'KAK': 0,\n    'HSY': 0,\n    'GYK': 0},\n   {'SHI': 1,\n    'GON': 1,\n    'UMA': 1,\n    'KIN': 1,\n    'GIN': 1,\n    'KAK': 0,\n    'HSY': 1,\n    'GYK': 0}],\n  'board': [[[['NONE', False], ['NONE', False]],\n    [['NONE', False], ['NONE', False]],\n    [['NONE', False], ['NONE', False]],\n    [['NONE', False], ['NONE', False]]],\n   [[['NONE', False], ['NONE', False]],\n    [['NONE', False], ['NONE', False]],\n    [['NONE', False], ['NONE', False]],\n    [['NONE', False], ['NONE', False]]],\n   [[['SHI', True], ['KAK', False]],\n    [['NONE', False], ['NONE', False]],\n    [['NONE', False], ['NONE', False]],\n    [['NONE', False], ['NONE', False]]],\n   [[['KAK', False], ['HSY', False]],\n    [['NONE', False], ['NONE', False]],\n    [['NONE', False], ['NONE', False]],\n    [['NONE', False], ['NONE', False]]]]},\n {'played_player': 2,\n  'behavior': -1,\n  'hands': [{'SHI': 4,\n    'GON': 1,\n    'UMA': 1,\n    'KIN': 1,\n    'GIN': 0,\n    'KAK': 0,\n    'HSY': 0,\n    'GYK': 1},\n   {'SHI': 1,\n    'GON': 1,\n    'UMA': 2,\n    'KIN': 1,\n    'GIN': 2,\n    'KAK': 0,\n    'HSY': 0,\n    'GYK': 1},\n   {'SHI': 3,\n    'GON': 1,\n    'UMA': 0,\n    'KIN': 1,\n    'GIN': 1,\n    'KAK': 0,\n    'HSY': 0,\n    'GYK': 0},\n   {'SHI': 1,\n    'GON': 1,\n    'UMA': 1,\n    'KIN': 1,\n    'GIN': 1,\n    'KAK': 0,\n    'HSY': 1,\n    'GYK': 0}],\n  'board': [[[['NONE', False], ['NONE', False]],\n    [['NONE', False], ['NONE', False]],\n    [['NONE', False], ['NONE', False]],\n    [['NONE', False], ['NONE', False]]],\n   [[['NONE', False], ['NONE', False]],\n    [['NONE', False], ['NONE', False]],\n    [['NONE', False], ['NONE', False]],\n    [['NONE', False], ['NONE', False]]],\n   [[['SHI', True], ['KAK', False]],\n    [['NONE', False], ['NONE', False]],\n    [['NONE', False], ['NONE', False]],\n    [['NONE', False], ['NONE', False]]],\n   [[['KAK', False], ['HSY', False]],\n    [['NONE', False], ['NONE', False]],\n    [['NONE', False], ['NONE', False]],\n    [['NONE', False], ['NONE', False]]]]},\n {'played_player': 3,\n  'behavior': 7,\n  'hands': [{'SHI': 4,\n    'GON': 1,\n    'UMA': 1,\n    'KIN': 1,\n    'GIN': 0,\n    'KAK': 0,\n    'HSY': 0,\n    'GYK': 1},\n   {'SHI': 1,\n    'GON': 1,\n    'UMA': 2,\n    'KIN': 1,\n    'GIN': 2,\n    'KAK': 0,\n    'HSY': 0,\n    'GYK': 1},\n   {'SHI': 3,\n    'GON': 1,\n    'UMA': 0,\n    'KIN': 1,\n    'GIN': 1,\n    'KAK': 0,\n    'HSY': 0,\n    'GYK': 0},\n   {'SHI': 1,\n    'GON': 1,\n    'UMA': 0,\n    'KIN': 1,\n    'GIN': 1,\n    'KAK': 0,\n    'HSY': 0,\n    'GYK': 0}],\n  'board': [[[['NONE', False], ['NONE', False]],\n    [['NONE', False], ['NONE', False]],\n    [['NONE', False], ['NONE', False]],\n    [['NONE', False], ['NONE', False]]],\n   [[['NONE', False], ['NONE', False]],\n    [['NONE', False], ['NONE', False]],\n    [['NONE', False], ['NONE', False]],\n    [['NONE', False], ['NONE', False]]],\n   [[['SHI', True], ['KAK', False]],\n    [['NONE', False], ['NONE', False]],\n    [['NONE', False], ['NONE', False]],\n    [['NONE', False], ['NONE', False]]],\n   [[['KAK', False], ['HSY', False]],\n    [['UMA', True], ['HSY', False]],\n    [['NONE', False], ['NONE', False]],\n    [['NONE', False], ['NONE', False]]]]},\n {'played_player': 0,\n  'behavior': -1,\n  'hands': [{'SHI': 4,\n    'GON': 1,\n    'UMA': 1,\n    'KIN': 1,\n    'GIN': 0,\n    'KAK': 0,\n    'HSY': 0,\n    'GYK': 1},\n   {'SHI': 1,\n    'GON': 1,\n    'UMA': 2,\n    'KIN': 1,\n    'GIN': 2,\n    'KAK': 0,\n    'HSY': 0,\n    'GYK': 1},\n   {'SHI': 3,\n    'GON': 1,\n    'UMA': 0,\n    'KIN': 1,\n    'GIN': 1,\n    'KAK': 0,\n    'HSY': 0,\n    'GYK': 0},\n   {'SHI': 1,\n    'GON': 1,\n    'UMA': 0,\n    'KIN': 1,\n    'GIN': 1,\n    'KAK': 0,\n    'HSY': 0,\n    'GYK': 0}],\n  'board': [[[['NONE', False], ['NONE', False]],\n    [['NONE', False], ['NONE', False]],\n    [['NONE', False], ['NONE', False]],\n    [['NONE', False], ['NONE', False]]],\n   [[['NONE', False], ['NONE', False]],\n    [['NONE', False], ['NONE', False]],\n    [['NONE', False], ['NONE', False]],\n    [['NONE', False], ['NONE', False]]],\n   [[['SHI', True], ['KAK', False]],\n    [['NONE', False], ['NONE', False]],\n    [['NONE', False], ['NONE', False]],\n    [['NONE', False], ['NONE', False]]],\n   [[['KAK', False], ['HSY', False]],\n    [['UMA', True], ['HSY', False]],\n    [['NONE', False], ['NONE', False]],\n    [['NONE', False], ['NONE', False]]]]},\n {'played_player': 1,\n  'behavior': -1,\n  'hands': [{'SHI': 4,\n    'GON': 1,\n    'UMA': 1,\n    'KIN': 1,\n    'GIN': 0,\n    'KAK': 0,\n    'HSY': 0,\n    'GYK': 1},\n   {'SHI': 1,\n    'GON': 1,\n    'UMA': 2,\n    'KIN': 1,\n    'GIN': 2,\n    'KAK': 0,\n    'HSY': 0,\n    'GYK': 1},\n   {'SHI': 3,\n    'GON': 1,\n    'UMA': 0,\n    'KIN': 1,\n    'GIN': 1,\n    'KAK': 0,\n    'HSY': 0,\n    'GYK': 0},\n   {'SHI': 1,\n    'GON': 1,\n    'UMA': 0,\n    'KIN': 1,\n    'GIN': 1,\n    'KAK': 0,\n    'HSY': 0,\n    'GYK': 0}],\n  'board': [[[['NONE', False], ['NONE', False]],\n    [['NONE', False], ['NONE', False]],\n    [['NONE', False], ['NONE', False]],\n    [['NONE', False], ['NONE', False]]],\n   [[['NONE', False], ['NONE', False]],\n    [['NONE', False], ['NONE', False]],\n    [['NONE', False], ['NONE', False]],\n    [['NONE', False], ['NONE', False]]],\n   [[['SHI', True], ['KAK', False]],\n    [['NONE', False], ['NONE', False]],\n    [['NONE', False], ['NONE', False]],\n    [['NONE', False], ['NONE', False]]],\n   [[['KAK', False], ['HSY', False]],\n    [['UMA', True], ['HSY', False]],\n    [['NONE', False], ['NONE', False]],\n    [['NONE', False], ['NONE', False]]]]},\n {'played_player': 2,\n  'behavior': -1,\n  'hands': [{'SHI': 4,\n    'GON': 1,\n    'UMA': 1,\n    'KIN': 1,\n    'GIN': 0,\n    'KAK': 0,\n    'HSY': 0,\n    'GYK': 1},\n   {'SHI': 1,\n    'GON': 1,\n    'UMA': 2,\n    'KIN': 1,\n    'GIN': 2,\n    'KAK': 0,\n    'HSY': 0,\n    'GYK': 1},\n   {'SHI': 3,\n    'GON': 1,\n    'UMA': 0,\n    'KIN': 1,\n    'GIN': 1,\n    'KAK': 0,\n    'HSY': 0,\n    'GYK': 0},\n   {'SHI': 1,\n    'GON': 1,\n    'UMA': 0,\n    'KIN': 1,\n    'GIN': 1,\n    'KAK': 0,\n    'HSY': 0,\n    'GYK': 0}],\n  'board': [[[['NONE', False], ['NONE', False]],\n    [['NONE', False], ['NONE', False]],\n    [['NONE', False], ['NONE', False]],\n    [['NONE', False], ['NONE', False]]],\n   [[['NONE', False], ['NONE', False]],\n    [['NONE', False], ['NONE', False]],\n    [['NONE', False], ['NONE', False]],\n    [['NONE', False], ['NONE', False]]],\n   [[['SHI', True], ['KAK', False]],\n    [['NONE', False], ['NONE', False]],\n    [['NONE', False], ['NONE', False]],\n    [['NONE', False], ['NONE', False]]],\n   [[['KAK', False], ['HSY', False]],\n    [['UMA', True], ['HSY', False]],\n    [['NONE', False], ['NONE', False]],\n    [['NONE', False], ['NONE', False]]]]},\n {'played_player': 3,\n  'behavior': 4,\n  'hands': [{'SHI': 4,\n    'GON': 1,\n    'UMA': 1,\n    'KIN': 1,\n    'GIN': 0,\n    'KAK': 0,\n    'HSY': 0,\n    'GYK': 1},\n   {'SHI': 1,\n    'GON': 1,\n    'UMA': 2,\n    'KIN': 1,\n    'GIN': 2,\n    'KAK': 0,\n    'HSY': 0,\n    'GYK': 1},\n   {'SHI': 3,\n    'GON': 1,\n    'UMA': 0,\n    'KIN': 1,\n    'GIN': 1,\n    'KAK': 0,\n    'HSY': 0,\n    'GYK': 0},\n   {'SHI': 0,\n    'GON': 1,\n    'UMA': 0,\n    'KIN': 0,\n    'GIN': 1,\n    'KAK': 0,\n    'HSY': 0,\n    'GYK': 0}],\n  'board': [[[['NONE', False], ['NONE', False]],\n    [['NONE', False], ['NONE', False]],\n    [['NONE', False], ['NONE', False]],\n    [['NONE', False], ['NONE', False]]],\n   [[['NONE', False], ['NONE', False]],\n    [['NONE', False], ['NONE', False]],\n    [['NONE', False], ['NONE', False]],\n    [['NONE', False], ['NONE', False]]],\n   [[['SHI', True], ['KAK', False]],\n    [['NONE', False], ['NONE', False]],\n    [['NONE', False], ['NONE', False]],\n    [['NONE', False], ['NONE', False]]],\n   [[['KAK', False], ['HSY', False]],\n    [['UMA', True], ['HSY', False]],\n    [['SHI', True], ['KIN', False]],\n    [['NONE', False], ['NONE', False]]]]},\n {'played_player': 0,\n  'behavior': 1,\n  'hands': [{'SHI': 3,\n    'GON': 1,\n    'UMA': 1,\n    'KIN': 0,\n    'GIN': 0,\n    'KAK': 0,\n    'HSY': 0,\n    'GYK': 1},\n   {'SHI': 1,\n    'GON': 1,\n    'UMA': 2,\n    'KIN': 1,\n    'GIN': 2,\n    'KAK': 0,\n    'HSY': 0,\n    'GYK': 1},\n   {'SHI': 3,\n    'GON': 1,\n    'UMA': 0,\n    'KIN': 1,\n    'GIN': 1,\n    'KAK': 0,\n    'HSY': 0,\n    'GYK': 0},\n   {'SHI': 0,\n    'GON': 1,\n    'UMA': 0,\n    'KIN': 0,\n    'GIN': 1,\n    'KAK': 0,\n    'HSY': 0,\n    'GYK': 0}],\n  'board': [[[['KIN', False], ['SHI', False]],\n    [['NONE', False], ['NONE', False]],\n    [['NONE', False], ['NONE', False]],\n    [['NONE', False], ['NONE', False]]],\n   [[['NONE', False], ['NONE', False]],\n    [['NONE', False], ['NONE', False]],\n    [['NONE', False], ['NONE', False]],\n    [['NONE', False], ['NONE', False]]],\n   [[['SHI', True], ['KAK', False]],\n    [['NONE', False], ['NONE', False]],\n    [['NONE', False], ['NONE', False]],\n    [['NONE', False], ['NONE', False]]],\n   [[['KAK', False], ['HSY', False]],\n    [['UMA', True], ['HSY', False]],\n    [['SHI', True], ['KIN', False]],\n    [['NONE', False], ['NONE', False]]]]},\n {'played_player': 1,\n  'behavior': -1,\n  'hands': [{'SHI': 3,\n    'GON': 1,\n    'UMA': 1,\n    'KIN': 0,\n    'GIN': 0,\n    'KAK': 0,\n    'HSY': 0,\n    'GYK': 1},\n   {'SHI': 1,\n    'GON': 1,\n    'UMA': 2,\n    'KIN': 1,\n    'GIN': 2,\n    'KAK': 0,\n    'HSY': 0,\n    'GYK': 1},\n   {'SHI': 3,\n    'GON': 1,\n    'UMA': 0,\n    'KIN': 1,\n    'GIN': 1,\n    'KAK': 0,\n    'HSY': 0,\n    'GYK': 0},\n   {'SHI': 0,\n    'GON': 1,\n    'UMA': 0,\n    'KIN': 0,\n    'GIN': 1,\n    'KAK': 0,\n    'HSY': 0,\n    'GYK': 0}],\n  'board': [[[['KIN', False], ['SHI', False]],\n    [['NONE', False], ['NONE', False]],\n    [['NONE', False], ['NONE', False]],\n    [['NONE', False], ['NONE', False]]],\n   [[['NONE', False], ['NONE', False]],\n    [['NONE', False], ['NONE', False]],\n    [['NONE', False], ['NONE', False]],\n    [['NONE', False], ['NONE', False]]],\n   [[['SHI', True], ['KAK', False]],\n    [['NONE', False], ['NONE', False]],\n    [['NONE', False], ['NONE', False]],\n    [['NONE', False], ['NONE', False]]],\n   [[['KAK', False], ['HSY', False]],\n    [['UMA', True], ['HSY', False]],\n    [['SHI', True], ['KIN', False]],\n    [['NONE', False], ['NONE', False]]]]},\n {'played_player': 2,\n  'behavior': -1,\n  'hands': [{'SHI': 3,\n    'GON': 1,\n    'UMA': 1,\n    'KIN': 0,\n    'GIN': 0,\n    'KAK': 0,\n    'HSY': 0,\n    'GYK': 1},\n   {'SHI': 1,\n    'GON': 1,\n    'UMA': 2,\n    'KIN': 1,\n    'GIN': 2,\n    'KAK': 0,\n    'HSY': 0,\n    'GYK': 1},\n   {'SHI': 3,\n    'GON': 1,\n    'UMA': 0,\n    'KIN': 1,\n    'GIN': 1,\n    'KAK': 0,\n    'HSY': 0,\n    'GYK': 0},\n   {'SHI': 0,\n    'GON': 1,\n    'UMA': 0,\n    'KIN': 0,\n    'GIN': 1,\n    'KAK': 0,\n    'HSY': 0,\n    'GYK': 0}],\n  'board': [[[['KIN', False], ['SHI', False]],\n    [['NONE', False], ['NONE', False]],\n    [['NONE', False], ['NONE', False]],\n    [['NONE', False], ['NONE', False]]],\n   [[['NONE', False], ['NONE', False]],\n    [['NONE', False], ['NONE', False]],\n    [['NONE', False], ['NONE', False]],\n    [['NONE', False], ['NONE', False]]],\n   [[['SHI', True], ['KAK', False]],\n    [['NONE', False], ['NONE', False]],\n    [['NONE', False], ['NONE', False]],\n    [['NONE', False], ['NONE', False]]],\n   [[['KAK', False], ['HSY', False]],\n    [['UMA', True], ['HSY', False]],\n    [['SHI', True], ['KIN', False]],\n    [['NONE', False], ['NONE', False]]]]},\n {'played_player': 3,\n  'behavior': -1,\n  'hands': [{'SHI': 3,\n    'GON': 1,\n    'UMA': 1,\n    'KIN': 0,\n    'GIN': 0,\n    'KAK': 0,\n    'HSY': 0,\n    'GYK': 1},\n   {'SHI': 1,\n    'GON': 1,\n    'UMA': 2,\n    'KIN': 1,\n    'GIN': 2,\n    'KAK': 0,\n    'HSY': 0,\n    'GYK': 1},\n   {'SHI': 3,\n    'GON': 1,\n    'UMA': 0,\n    'KIN': 1,\n    'GIN': 1,\n    'KAK': 0,\n    'HSY': 0,\n    'GYK': 0},\n   {'SHI': 0,\n    'GON': 1,\n    'UMA': 0,\n    'KIN': 0,\n    'GIN': 1,\n    'KAK': 0,\n    'HSY': 0,\n    'GYK': 0}],\n  'board': [[[['KIN', False], ['SHI', False]],\n    [['NONE', False], ['NONE', False]],\n    [['NONE', False], ['NONE', False]],\n    [['NONE', False], ['NONE', False]]],\n   [[['NONE', False], ['NONE', False]],\n    [['NONE', False], ['NONE', False]],\n    [['NONE', False], ['NONE', False]],\n    [['NONE', False], ['NONE', False]]],\n   [[['SHI', True], ['KAK', False]],\n    [['NONE', False], ['NONE', False]],\n    [['NONE', False], ['NONE', False]],\n    [['NONE', False], ['NONE', False]]],\n   [[['KAK', False], ['HSY', False]],\n    [['UMA', True], ['HSY', False]],\n    [['SHI', True], ['KIN', False]],\n    [['NONE', False], ['NONE', False]]]]},\n {'played_player': 0,\n  'behavior': 1,\n  'hands': [{'SHI': 1,\n    'GON': 1,\n    'UMA': 1,\n    'KIN': 0,\n    'GIN': 0,\n    'KAK': 0,\n    'HSY': 0,\n    'GYK': 1},\n   {'SHI': 1,\n    'GON': 1,\n    'UMA': 2,\n    'KIN': 1,\n    'GIN': 2,\n    'KAK': 0,\n    'HSY': 0,\n    'GYK': 1},\n   {'SHI': 3,\n    'GON': 1,\n    'UMA': 0,\n    'KIN': 1,\n    'GIN': 1,\n    'KAK': 0,\n    'HSY': 0,\n    'GYK': 0},\n   {'SHI': 0,\n    'GON': 1,\n    'UMA': 0,\n    'KIN': 0,\n    'GIN': 1,\n    'KAK': 0,\n    'HSY': 0,\n    'GYK': 0}],\n  'board': [[[['KIN', False], ['SHI', False]],\n    [['SHI', True], ['SHI', False]],\n    [['NONE', False], ['NONE', False]],\n    [['NONE', False], ['NONE', False]]],\n   [[['NONE', False], ['NONE', False]],\n    [['NONE', False], ['NONE', False]],\n    [['NONE', False], ['NONE', False]],\n    [['NONE', False], ['NONE', False]]],\n   [[['SHI', True], ['KAK', False]],\n    [['NONE', False], ['NONE', False]],\n    [['NONE', False], ['NONE', False]],\n    [['NONE', False], ['NONE', False]]],\n   [[['KAK', False], ['HSY', False]],\n    [['UMA', True], ['HSY', False]],\n    [['SHI', True], ['KIN', False]],\n    [['NONE', False], ['NONE', False]]]]},\n {'played_player': 1,\n  'behavior': 5,\n  'hands': [{'SHI': 1,\n    'GON': 1,\n    'UMA': 1,\n    'KIN': 0,\n    'GIN': 0,\n    'KAK': 0,\n    'HSY': 0,\n    'GYK': 1},\n   {'SHI': 0,\n    'GON': 1,\n    'UMA': 2,\n    'KIN': 1,\n    'GIN': 1,\n    'KAK': 0,\n    'HSY': 0,\n    'GYK': 1},\n   {'SHI': 3,\n    'GON': 1,\n    'UMA': 0,\n    'KIN': 1,\n    'GIN': 1,\n    'KAK': 0,\n    'HSY': 0,\n    'GYK': 0},\n   {'SHI': 0,\n    'GON': 1,\n    'UMA': 0,\n    'KIN': 0,\n    'GIN': 1,\n    'KAK': 0,\n    'HSY': 0,\n    'GYK': 0}],\n  'board': [[[['KIN', False], ['SHI', False]],\n    [['SHI', True], ['SHI', False]],\n    [['NONE', False], ['NONE', False]],\n    [['NONE', False], ['NONE', False]]],\n   [[['SHI', False], ['GIN', False]],\n    [['NONE', False], ['NONE', False]],\n    [['NONE', False], ['NONE', False]],\n    [['NONE', False], ['NONE', False]]],\n   [[['SHI', True], ['KAK', False]],\n    [['NONE', False], ['NONE', False]],\n    [['NONE', False], ['NONE', False]],\n    [['NONE', False], ['NONE', False]]],\n   [[['KAK', False], ['HSY', False]],\n    [['UMA', True], ['HSY', False]],\n    [['SHI', True], ['KIN', False]],\n    [['NONE', False], ['NONE', False]]]]},\n {'played_player': 2,\n  'behavior': 1,\n  'hands': [{'SHI': 1,\n    'GON': 1,\n    'UMA': 1,\n    'KIN': 0,\n    'GIN': 0,\n    'KAK': 0,\n    'HSY': 0,\n    'GYK': 1},\n   {'SHI': 0,\n    'GON': 1,\n    'UMA': 2,\n    'KIN': 1,\n    'GIN': 1,\n    'KAK': 0,\n    'HSY': 0,\n    'GYK': 1},\n   {'SHI': 2,\n    'GON': 1,\n    'UMA': 0,\n    'KIN': 1,\n    'GIN': 0,\n    'KAK': 0,\n    'HSY': 0,\n    'GYK': 0},\n   {'SHI': 0,\n    'GON': 1,\n    'UMA': 0,\n    'KIN': 0,\n    'GIN': 1,\n    'KAK': 0,\n    'HSY': 0,\n    'GYK': 0}],\n  'board': [[[['KIN', False], ['SHI', False]],\n    [['SHI', True], ['SHI', False]],\n    [['NONE', False], ['NONE', False]],\n    [['NONE', False], ['NONE', False]]],\n   [[['SHI', False], ['GIN', False]],\n    [['NONE', False], ['NONE', False]],\n    [['NONE', False], ['NONE', False]],\n    [['NONE', False], ['NONE', False]]],\n   [[['SHI', True], ['KAK', False]],\n    [['GIN', False], ['SHI', False]],\n    [['NONE', False], ['NONE', False]],\n    [['NONE', False], ['NONE', False]]],\n   [[['KAK', False], ['HSY', False]],\n    [['UMA', True], ['HSY', False]],\n    [['SHI', True], ['KIN', False]],\n    [['NONE', False], ['NONE', False]]]]},\n {'played_player': 3,\n  'behavior': -1,\n  'hands': [{'SHI': 1,\n    'GON': 1,\n    'UMA': 1,\n    'KIN': 0,\n    'GIN': 0,\n    'KAK': 0,\n    'HSY': 0,\n    'GYK': 1},\n   {'SHI': 0,\n    'GON': 1,\n    'UMA': 2,\n    'KIN': 1,\n    'GIN': 1,\n    'KAK': 0,\n    'HSY': 0,\n    'GYK': 1},\n   {'SHI': 2,\n    'GON': 1,\n    'UMA': 0,\n    'KIN': 1,\n    'GIN': 0,\n    'KAK': 0,\n    'HSY': 0,\n    'GYK': 0},\n   {'SHI': 0,\n    'GON': 1,\n    'UMA': 0,\n    'KIN': 0,\n    'GIN': 1,\n    'KAK': 0,\n    'HSY': 0,\n    'GYK': 0}],\n  'board': [[[['KIN', False], ['SHI', False]],\n    [['SHI', True], ['SHI', False]],\n    [['NONE', False], ['NONE', False]],\n    [['NONE', False], ['NONE', False]]],\n   [[['SHI', False], ['GIN', False]],\n    [['NONE', False], ['NONE', False]],\n    [['NONE', False], ['NONE', False]],\n    [['NONE', False], ['NONE', False]]],\n   [[['SHI', True], ['KAK', False]],\n    [['GIN', False], ['SHI', False]],\n    [['NONE', False], ['NONE', False]],\n    [['NONE', False], ['NONE', False]]],\n   [[['KAK', False], ['HSY', False]],\n    [['UMA', True], ['HSY', False]],\n    [['SHI', True], ['KIN', False]],\n    [['NONE', False], ['NONE', False]]]]},\n {'played_player': 0,\n  'behavior': -1,\n  'hands': [{'SHI': 1,\n    'GON': 1,\n    'UMA': 1,\n    'KIN': 0,\n    'GIN': 0,\n    'KAK': 0,\n    'HSY': 0,\n    'GYK': 1},\n   {'SHI': 0,\n    'GON': 1,\n    'UMA': 2,\n    'KIN': 1,\n    'GIN': 1,\n    'KAK': 0,\n    'HSY': 0,\n    'GYK': 1},\n   {'SHI': 2,\n    'GON': 1,\n    'UMA': 0,\n    'KIN': 1,\n    'GIN': 0,\n    'KAK': 0,\n    'HSY': 0,\n    'GYK': 0},\n   {'SHI': 0,\n    'GON': 1,\n    'UMA': 0,\n    'KIN': 0,\n    'GIN': 1,\n    'KAK': 0,\n    'HSY': 0,\n    'GYK': 0}],\n  'board': [[[['KIN', False], ['SHI', False]],\n    [['SHI', True], ['SHI', False]],\n    [['NONE', False], ['NONE', False]],\n    [['NONE', False], ['NONE', False]]],\n   [[['SHI', False], ['GIN', False]],\n    [['NONE', False], ['NONE', False]],\n    [['NONE', False], ['NONE', False]],\n    [['NONE', False], ['NONE', False]]],\n   [[['SHI', True], ['KAK', False]],\n    [['GIN', False], ['SHI', False]],\n    [['NONE', False], ['NONE', False]],\n    [['NONE', False], ['NONE', False]]],\n   [[['KAK', False], ['HSY', False]],\n    [['UMA', True], ['HSY', False]],\n    [['SHI', True], ['KIN', False]],\n    [['NONE', False], ['NONE', False]]]]},\n {'played_player': 1,\n  'behavior': -1,\n  'hands': [{'SHI': 1,\n    'GON': 1,\n    'UMA': 1,\n    'KIN': 0,\n    'GIN': 0,\n    'KAK': 0,\n    'HSY': 0,\n    'GYK': 1},\n   {'SHI': 0,\n    'GON': 1,\n    'UMA': 2,\n    'KIN': 1,\n    'GIN': 1,\n    'KAK': 0,\n    'HSY': 0,\n    'GYK': 1},\n   {'SHI': 2,\n    'GON': 1,\n    'UMA': 0,\n    'KIN': 1,\n    'GIN': 0,\n    'KAK': 0,\n    'HSY': 0,\n    'GYK': 0},\n   {'SHI': 0,\n    'GON': 1,\n    'UMA': 0,\n    'KIN': 0,\n    'GIN': 1,\n    'KAK': 0,\n    'HSY': 0,\n    'GYK': 0}],\n  'board': [[[['KIN', False], ['SHI', False]],\n    [['SHI', True], ['SHI', False]],\n    [['NONE', False], ['NONE', False]],\n    [['NONE', False], ['NONE', False]]],\n   [[['SHI', False], ['GIN', False]],\n    [['NONE', False], ['NONE', False]],\n    [['NONE', False], ['NONE', False]],\n    [['NONE', False], ['NONE', False]]],\n   [[['SHI', True], ['KAK', False]],\n    [['GIN', False], ['SHI', False]],\n    [['NONE', False], ['NONE', False]],\n    [['NONE', False], ['NONE', False]]],\n   [[['KAK', False], ['HSY', False]],\n    [['UMA', True], ['HSY', False]],\n    [['SHI', True], ['KIN', False]],\n    [['NONE', False], ['NONE', False]]]]},\n {'played_player': 2,\n  'behavior': 1,\n  'hands': [{'SHI': 1,\n    'GON': 1,\n    'UMA': 1,\n    'KIN': 0,\n    'GIN': 0,\n    'KAK': 0,\n    'HSY': 0,\n    'GYK': 1},\n   {'SHI': 0,\n    'GON': 1,\n    'UMA': 2,\n    'KIN': 1,\n    'GIN': 1,\n    'KAK': 0,\n    'HSY': 0,\n    'GYK': 1},\n   {'SHI': 0,\n    'GON': 1,\n    'UMA': 0,\n    'KIN': 1,\n    'GIN': 0,\n    'KAK': 0,\n    'HSY': 0,\n    'GYK': 0},\n   {'SHI': 0,\n    'GON': 1,\n    'UMA': 0,\n    'KIN': 0,\n    'GIN': 1,\n    'KAK': 0,\n    'HSY': 0,\n    'GYK': 0}],\n  'board': [[[['KIN', False], ['SHI', False]],\n    [['SHI', True], ['SHI', False]],\n    [['NONE', False], ['NONE', False]],\n    [['NONE', False], ['NONE', False]]],\n   [[['SHI', False], ['GIN', False]],\n    [['NONE', False], ['NONE', False]],\n    [['NONE', False], ['NONE', False]],\n    [['NONE', False], ['NONE', False]]],\n   [[['SHI', True], ['KAK', False]],\n    [['GIN', False], ['SHI', False]],\n    [['SHI', True], ['SHI', False]],\n    [['NONE', False], ['NONE', False]]],\n   [[['KAK', False], ['HSY', False]],\n    [['UMA', True], ['HSY', False]],\n    [['SHI', True], ['KIN', False]],\n    [['NONE', False], ['NONE', False]]]]},\n {'played_player': 3,\n  'behavior': -1,\n  'hands': [{'SHI': 1,\n    'GON': 1,\n    'UMA': 1,\n    'KIN': 0,\n    'GIN': 0,\n    'KAK': 0,\n    'HSY': 0,\n    'GYK': 1},\n   {'SHI': 0,\n    'GON': 1,\n    'UMA': 2,\n    'KIN': 1,\n    'GIN': 1,\n    'KAK': 0,\n    'HSY': 0,\n    'GYK': 1},\n   {'SHI': 0,\n    'GON': 1,\n    'UMA': 0,\n    'KIN': 1,\n    'GIN': 0,\n    'KAK': 0,\n    'HSY': 0,\n    'GYK': 0},\n   {'SHI': 0,\n    'GON': 1,\n    'UMA': 0,\n    'KIN': 0,\n    'GIN': 1,\n    'KAK': 0,\n    'HSY': 0,\n    'GYK': 0}],\n  'board': [[[['KIN', False], ['SHI', False]],\n    [['SHI', True], ['SHI', False]],\n    [['NONE', False], ['NONE', False]],\n    [['NONE', False], ['NONE', False]]],\n   [[['SHI', False], ['GIN', False]],\n    [['NONE', False], ['NONE', False]],\n    [['NONE', False], ['NONE', False]],\n    [['NONE', False], ['NONE', False]]],\n   [[['SHI', True], ['KAK', False]],\n    [['GIN', False], ['SHI', False]],\n    [['SHI', True], ['SHI', False]],\n    [['NONE', False], ['NONE', False]]],\n   [[['KAK', False], ['HSY', False]],\n    [['UMA', True], ['HSY', False]],\n    [['SHI', True], ['KIN', False]],\n    [['NONE', False], ['NONE', False]]]]},\n {'played_player': 0,\n  'behavior': -1,\n  'hands': [{'SHI': 1,\n    'GON': 1,\n    'UMA': 1,\n    'KIN': 0,\n    'GIN': 0,\n    'KAK': 0,\n    'HSY': 0,\n    'GYK': 1},\n   {'SHI': 0,\n    'GON': 1,\n    'UMA': 2,\n    'KIN': 1,\n    'GIN': 1,\n    'KAK': 0,\n    'HSY': 0,\n    'GYK': 1},\n   {'SHI': 0,\n    'GON': 1,\n    'UMA': 0,\n    'KIN': 1,\n    'GIN': 0,\n    'KAK': 0,\n    'HSY': 0,\n    'GYK': 0},\n   {'SHI': 0,\n    'GON': 1,\n    'UMA': 0,\n    'KIN': 0,\n    'GIN': 1,\n    'KAK': 0,\n    'HSY': 0,\n    'GYK': 0}],\n  'board': [[[['KIN', False], ['SHI', False]],\n    [['SHI', True], ['SHI', False]],\n    [['NONE', False], ['NONE', False]],\n    [['NONE', False], ['NONE', False]]],\n   [[['SHI', False], ['GIN', False]],\n    [['NONE', False], ['NONE', False]],\n    [['NONE', False], ['NONE', False]],\n    [['NONE', False], ['NONE', False]]],\n   [[['SHI', True], ['KAK', False]],\n    [['GIN', False], ['SHI', False]],\n    [['SHI', True], ['SHI', False]],\n    [['NONE', False], ['NONE', False]]],\n   [[['KAK', False], ['HSY', False]],\n    [['UMA', True], ['HSY', False]],\n    [['SHI', True], ['KIN', False]],\n    [['NONE', False], ['NONE', False]]]]},\n {'played_player': 1,\n  'behavior': -1,\n  'hands': [{'SHI': 1,\n    'GON': 1,\n    'UMA': 1,\n    'KIN': 0,\n    'GIN': 0,\n    'KAK': 0,\n    'HSY': 0,\n    'GYK': 1},\n   {'SHI': 0,\n    'GON': 1,\n    'UMA': 2,\n    'KIN': 1,\n    'GIN': 1,\n    'KAK': 0,\n    'HSY': 0,\n    'GYK': 1},\n   {'SHI': 0,\n    'GON': 1,\n    'UMA': 0,\n    'KIN': 1,\n    'GIN': 0,\n    'KAK': 0,\n    'HSY': 0,\n    'GYK': 0},\n   {'SHI': 0,\n    'GON': 1,\n    'UMA': 0,\n    'KIN': 0,\n    'GIN': 1,\n    'KAK': 0,\n    'HSY': 0,\n    'GYK': 0}],\n  'board': [[[['KIN', False], ['SHI', False]],\n    [['SHI', True], ['SHI', False]],\n    [['NONE', False], ['NONE', False]],\n    [['NONE', False], ['NONE', False]]],\n   [[['SHI', False], ['GIN', False]],\n    [['NONE', False], ['NONE', False]],\n    [['NONE', False], ['NONE', False]],\n    [['NONE', False], ['NONE', False]]],\n   [[['SHI', True], ['KAK', False]],\n    [['GIN', False], ['SHI', False]],\n    [['SHI', True], ['SHI', False]],\n    [['NONE', False], ['NONE', False]]],\n   [[['KAK', False], ['HSY', False]],\n    [['UMA', True], ['HSY', False]],\n    [['SHI', True], ['KIN', False]],\n    [['NONE', False], ['NONE', False]]]]},\n {'played_player': 2,\n  'behavior': 4,\n  'hands': [{'SHI': 1,\n    'GON': 1,\n    'UMA': 1,\n    'KIN': 0,\n    'GIN': 0,\n    'KAK': 0,\n    'HSY': 0,\n    'GYK': 1},\n   {'SHI': 0,\n    'GON': 1,\n    'UMA': 2,\n    'KIN': 1,\n    'GIN': 1,\n    'KAK': 0,\n    'HSY': 0,\n    'GYK': 1},\n   {'SHI': 0,\n    'GON': 0,\n    'UMA': 0,\n    'KIN': 0,\n    'GIN': 0,\n    'KAK': 0,\n    'HSY': 0,\n    'GYK': 0},\n   {'SHI': 0,\n    'GON': 1,\n    'UMA': 0,\n    'KIN': 0,\n    'GIN': 1,\n    'KAK': 0,\n    'HSY': 0,\n    'GYK': 0}],\n  'board': [[[['KIN', False], ['SHI', False]],\n    [['SHI', True], ['SHI', False]],\n    [['NONE', False], ['NONE', False]],\n    [['NONE', False], ['NONE', False]]],\n   [[['SHI', False], ['GIN', False]],\n    [['NONE', False], ['NONE', False]],\n    [['NONE', False], ['NONE', False]],\n    [['NONE', False], ['NONE', False]]],\n   [[['SHI', True], ['KAK', False]],\n    [['GIN', False], ['SHI', False]],\n    [['SHI', True], ['SHI', False]],\n    [['GON', True], ['KIN', False]]],\n   [[['KAK', False], ['HSY', False]],\n    [['UMA', True], ['HSY', False]],\n    [['SHI', True], ['KIN', False]],\n    [['NONE', False], ['NONE', False]]]]}]"
     },
     "execution_count": 6,
     "metadata": {},
     "output_type": "execute_result"
    }
   ],
   "source": [
    "import importlib\n",
    "importlib.reload(pg)\n",
    "master = pg.GameMaster(hands=convert_hands(log1[\"hand\"]))\n",
    "\n",
    "for play_log in log1[\"game\"]:\n",
    "    master.update_hand(int(play_log[0]),  pg.Koma.from_str(play_log[2]), km.Koma.from_str(play_log[1]) )\n",
    "\n",
    "master.to_dict()"
   ],
   "metadata": {
    "collapsed": false,
    "ExecuteTime": {
     "end_time": "2023-05-06T15:39:48.357224Z",
     "start_time": "2023-05-06T15:39:48.297860Z"
    }
   }
  },
  {
   "cell_type": "code",
   "execution_count": 8,
   "outputs": [],
   "source": [
    "import json\n",
    "with open(\"../extendedData/test1.json\", mode=\"w\", encoding=\"utf-8\") as f:\n",
    "    json.dump(master.to_dict(), f, indent=4)"
   ],
   "metadata": {
    "collapsed": false,
    "ExecuteTime": {
     "end_time": "2023-05-06T15:42:13.974897Z",
     "start_time": "2023-05-06T15:42:13.955930Z"
    }
   }
  }
 ],
 "metadata": {
  "kernelspec": {
   "display_name": "Python 3",
   "language": "python",
   "name": "python3"
  },
  "language_info": {
   "codemirror_mode": {
    "name": "ipython",
    "version": 2
   },
   "file_extension": ".py",
   "mimetype": "text/x-python",
   "name": "python",
   "nbconvert_exporter": "python",
   "pygments_lexer": "ipython2",
   "version": "2.7.6"
  }
 },
 "nbformat": 4,
 "nbformat_minor": 0
}
