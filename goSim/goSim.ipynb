{
 "cells": [
  {
   "cell_type": "code",
   "execution_count": 1,
   "metadata": {
    "collapsed": true
   },
   "outputs": [
    {
     "ename": "ModuleNotFoundError",
     "evalue": "No module named 'yaml'",
     "output_type": "error",
     "traceback": [
      "\u001B[1;31m---------------------------------------------------------------------------\u001B[0m",
      "\u001B[1;31mModuleNotFoundError\u001B[0m                       Traceback (most recent call last)",
      "Cell \u001B[1;32mIn[1], line 1\u001B[0m\n\u001B[1;32m----> 1\u001B[0m \u001B[38;5;28;01mimport\u001B[39;00m \u001B[38;5;21;01myaml\u001B[39;00m\n\u001B[0;32m      3\u001B[0m \u001B[38;5;28;01mwith\u001B[39;00m \u001B[38;5;28mopen\u001B[39m(\u001B[38;5;124m\"\u001B[39m\u001B[38;5;124m../data/goita_kifu_2023-3-21-21-24-33.yaml\u001B[39m\u001B[38;5;124m\"\u001B[39m) \u001B[38;5;28;01mas\u001B[39;00m f:\n\u001B[0;32m      4\u001B[0m     data \u001B[38;5;241m=\u001B[39m yaml\u001B[38;5;241m.\u001B[39msafe_load(f)\n",
      "\u001B[1;31mModuleNotFoundError\u001B[0m: No module named 'yaml'"
     ]
    }
   ],
   "source": [
    "import yaml\n",
    "\n",
    "with open(\"../data/goita_kifu_2023-3-21-21-24-33.yaml\") as f:\n",
    "    data = yaml.safe_load(f)\n",
    "data"
   ]
  },
  {
   "cell_type": "code",
   "execution_count": 2,
   "outputs": [
    {
     "data": {
      "text/plain": "{'hand': {'p0': 'しししし玉金香馬',\n  'p1': 'し王金銀銀香馬馬',\n  'p2': 'しししし角金銀香',\n  'p3': 'し角金銀飛飛香馬'},\n 'uchidashi': 2,\n 'score': [0, 0],\n 'game': [['2', 'し', '角'],\n  ['3', '角', '飛'],\n  ['3', '馬', '飛'],\n  ['3', 'し', '金'],\n  ['0', '金', 'し'],\n  ['0', 'し', 'し'],\n  ['1', 'し', '銀'],\n  ['2', '銀', 'し'],\n  ['2', 'し', 'し'],\n  ['2', '香', '金']]}"
     },
     "execution_count": 2,
     "metadata": {},
     "output_type": "execute_result"
    }
   ],
   "source": [
    "log1 = data[\"log\"][0]\n",
    "log1"
   ],
   "metadata": {
    "collapsed": false,
    "ExecuteTime": {
     "end_time": "2023-05-07T07:14:48.031529Z",
     "start_time": "2023-05-07T07:14:48.027154Z"
    }
   }
  },
  {
   "cell_type": "code",
   "execution_count": 1,
   "outputs": [],
   "source": [
    "import pyGoita as pg\n",
    "from collections import Counter\n",
    "\n",
    "def convert_hands(dict_hands):\n",
    "    handsets = []\n",
    "    for string in dict_hands.values():\n",
    "        koma_reps = []\n",
    "        for s in string:\n",
    "            koma_reps.append(pg.Koma.from_str(s).name)\n",
    "        print(koma_reps)\n",
    "        komas = dict(Counter(koma_reps))\n",
    "        print(komas)\n",
    "        handsets.append(pg.Handset(**komas))\n",
    "    return handsets\n"
   ],
   "metadata": {
    "collapsed": false,
    "ExecuteTime": {
     "end_time": "2023-05-11T07:17:47.634311200Z",
     "start_time": "2023-05-11T07:17:47.612500200Z"
    }
   }
  },
  {
   "cell_type": "code",
   "execution_count": 12,
   "outputs": [
    {
     "ename": "AttributeError",
     "evalue": "module 'pyGoita.Koma' has no attribute 'from_str'",
     "output_type": "error",
     "traceback": [
      "\u001B[0;31m---------------------------------------------------------------------------\u001B[0m",
      "\u001B[0;31mAttributeError\u001B[0m                            Traceback (most recent call last)",
      "Cell \u001B[0;32mIn[12], line 1\u001B[0m\n\u001B[0;32m----> 1\u001B[0m \u001B[43mconvert_hands\u001B[49m\u001B[43m(\u001B[49m\u001B[43mlog1\u001B[49m\u001B[43m[\u001B[49m\u001B[38;5;124;43m\"\u001B[39;49m\u001B[38;5;124;43mhand\u001B[39;49m\u001B[38;5;124;43m\"\u001B[39;49m\u001B[43m]\u001B[49m\u001B[43m)\u001B[49m\n",
      "Cell \u001B[0;32mIn[11], line 9\u001B[0m, in \u001B[0;36mconvert_hands\u001B[0;34m(dict_hands)\u001B[0m\n\u001B[1;32m      7\u001B[0m koma_reps \u001B[38;5;241m=\u001B[39m []\n\u001B[1;32m      8\u001B[0m \u001B[38;5;28;01mfor\u001B[39;00m s \u001B[38;5;129;01min\u001B[39;00m string:\n\u001B[0;32m----> 9\u001B[0m     koma_reps\u001B[38;5;241m.\u001B[39mappend(\u001B[43mpg\u001B[49m\u001B[38;5;241;43m.\u001B[39;49m\u001B[43mKoma\u001B[49m\u001B[38;5;241;43m.\u001B[39;49m\u001B[43mfrom_str\u001B[49m(s)\u001B[38;5;241m.\u001B[39mname)\n\u001B[1;32m     10\u001B[0m \u001B[38;5;28mprint\u001B[39m(koma_reps)\n\u001B[1;32m     11\u001B[0m komas \u001B[38;5;241m=\u001B[39m \u001B[38;5;28mdict\u001B[39m(Counter(koma_reps))\n",
      "\u001B[0;31mAttributeError\u001B[0m: module 'pyGoita.Koma' has no attribute 'from_str'"
     ]
    }
   ],
   "source": [
    "convert_hands(log1[\"hand\"])"
   ],
   "metadata": {
    "collapsed": false,
    "ExecuteTime": {
     "end_time": "2023-05-07T06:41:16.525255Z",
     "start_time": "2023-05-07T06:41:16.309343Z"
    }
   }
  },
  {
   "cell_type": "code",
   "execution_count": null,
   "outputs": [],
   "source": [],
   "metadata": {
    "collapsed": false
   }
  },
  {
   "cell_type": "code",
   "execution_count": 4,
   "outputs": [
    {
     "name": "stdout",
     "output_type": "stream",
     "text": [
      "['SHI', 'SHI', 'SHI', 'SHI', 'GYK', 'KIN', 'GON', 'UMA']\n",
      "{'SHI': 4, 'GYK': 1, 'KIN': 1, 'GON': 1, 'UMA': 1}\n",
      "['SHI', 'GYK', 'KIN', 'GIN', 'GIN', 'GON', 'UMA', 'UMA']\n",
      "{'SHI': 1, 'GYK': 1, 'KIN': 1, 'GIN': 2, 'GON': 1, 'UMA': 2}\n",
      "['SHI', 'SHI', 'SHI', 'SHI', 'KAK', 'KIN', 'GIN', 'GON']\n",
      "{'SHI': 4, 'KAK': 1, 'KIN': 1, 'GIN': 1, 'GON': 1}\n",
      "['SHI', 'KAK', 'KIN', 'GIN', 'HSY', 'HSY', 'GON', 'UMA']\n",
      "{'SHI': 1, 'KAK': 1, 'KIN': 1, 'GIN': 1, 'HSY': 2, 'GON': 1, 'UMA': 1}\n"
     ]
    },
    {
     "data": {
      "text/plain": "[{'played_player': -1,\n  'behavior': -1,\n  'hands': [{'SHI': 1,\n    'GON': 1,\n    'UMA': 1,\n    'KIN': 0,\n    'GIN': 0,\n    'KAK': 0,\n    'HSY': 0,\n    'GYK': 1},\n   {'SHI': 0,\n    'GON': 1,\n    'UMA': 2,\n    'KIN': 1,\n    'GIN': 1,\n    'KAK': 0,\n    'HSY': 0,\n    'GYK': 1},\n   {'SHI': 0,\n    'GON': 0,\n    'UMA': 0,\n    'KIN': 0,\n    'GIN': 0,\n    'KAK': 0,\n    'HSY': 0,\n    'GYK': 0},\n   {'SHI': 0,\n    'GON': 1,\n    'UMA': 0,\n    'KIN': 0,\n    'GIN': 1,\n    'KAK': 0,\n    'HSY': 0,\n    'GYK': 0}],\n  'board': [[[['NONE', False], ['NONE', False]],\n    [['NONE', False], ['NONE', False]],\n    [['NONE', False], ['NONE', False]],\n    [['NONE', False], ['NONE', False]]],\n   [[['NONE', False], ['NONE', False]],\n    [['NONE', False], ['NONE', False]],\n    [['NONE', False], ['NONE', False]],\n    [['NONE', False], ['NONE', False]]],\n   [[['NONE', False], ['NONE', False]],\n    [['NONE', False], ['NONE', False]],\n    [['NONE', False], ['NONE', False]],\n    [['NONE', False], ['NONE', False]]],\n   [[['NONE', False], ['NONE', False]],\n    [['NONE', False], ['NONE', False]],\n    [['NONE', False], ['NONE', False]],\n    [['NONE', False], ['NONE', False]]]]},\n {'played_player': 2,\n  'behavior': 6,\n  'hands': [{'SHI': 4,\n    'GON': 1,\n    'UMA': 1,\n    'KIN': 1,\n    'GIN': 0,\n    'KAK': 0,\n    'HSY': 0,\n    'GYK': 1},\n   {'SHI': 1,\n    'GON': 1,\n    'UMA': 2,\n    'KIN': 1,\n    'GIN': 2,\n    'KAK': 0,\n    'HSY': 0,\n    'GYK': 1},\n   {'SHI': 3,\n    'GON': 1,\n    'UMA': 0,\n    'KIN': 1,\n    'GIN': 1,\n    'KAK': 0,\n    'HSY': 0,\n    'GYK': 0},\n   {'SHI': 1,\n    'GON': 1,\n    'UMA': 1,\n    'KIN': 1,\n    'GIN': 1,\n    'KAK': 1,\n    'HSY': 2,\n    'GYK': 0}],\n  'board': [[[['NONE', False], ['NONE', False]],\n    [['NONE', False], ['NONE', False]],\n    [['NONE', False], ['NONE', False]],\n    [['NONE', False], ['NONE', False]]],\n   [[['NONE', False], ['NONE', False]],\n    [['NONE', False], ['NONE', False]],\n    [['NONE', False], ['NONE', False]],\n    [['NONE', False], ['NONE', False]]],\n   [[['SHI', True], ['KAK', False]],\n    [['NONE', False], ['NONE', False]],\n    [['NONE', False], ['NONE', False]],\n    [['NONE', False], ['NONE', False]]],\n   [[['NONE', False], ['NONE', False]],\n    [['NONE', False], ['NONE', False]],\n    [['NONE', False], ['NONE', False]],\n    [['NONE', False], ['NONE', False]]]]},\n {'played_player': 3,\n  'behavior': 7,\n  'hands': [{'SHI': 4,\n    'GON': 1,\n    'UMA': 1,\n    'KIN': 1,\n    'GIN': 0,\n    'KAK': 0,\n    'HSY': 0,\n    'GYK': 1},\n   {'SHI': 1,\n    'GON': 1,\n    'UMA': 2,\n    'KIN': 1,\n    'GIN': 2,\n    'KAK': 0,\n    'HSY': 0,\n    'GYK': 1},\n   {'SHI': 3,\n    'GON': 1,\n    'UMA': 0,\n    'KIN': 1,\n    'GIN': 1,\n    'KAK': 0,\n    'HSY': 0,\n    'GYK': 0},\n   {'SHI': 1,\n    'GON': 1,\n    'UMA': 1,\n    'KIN': 1,\n    'GIN': 1,\n    'KAK': 0,\n    'HSY': 1,\n    'GYK': 0}],\n  'board': [[[['NONE', False], ['NONE', False]],\n    [['NONE', False], ['NONE', False]],\n    [['NONE', False], ['NONE', False]],\n    [['NONE', False], ['NONE', False]]],\n   [[['NONE', False], ['NONE', False]],\n    [['NONE', False], ['NONE', False]],\n    [['NONE', False], ['NONE', False]],\n    [['NONE', False], ['NONE', False]]],\n   [[['SHI', True], ['KAK', False]],\n    [['NONE', False], ['NONE', False]],\n    [['NONE', False], ['NONE', False]],\n    [['NONE', False], ['NONE', False]]],\n   [[['KAK', False], ['HSY', False]],\n    [['NONE', False], ['NONE', False]],\n    [['NONE', False], ['NONE', False]],\n    [['NONE', False], ['NONE', False]]]]},\n {'played_player': 0,\n  'behavior': -1,\n  'hands': [{'SHI': 4,\n    'GON': 1,\n    'UMA': 1,\n    'KIN': 1,\n    'GIN': 0,\n    'KAK': 0,\n    'HSY': 0,\n    'GYK': 1},\n   {'SHI': 1,\n    'GON': 1,\n    'UMA': 2,\n    'KIN': 1,\n    'GIN': 2,\n    'KAK': 0,\n    'HSY': 0,\n    'GYK': 1},\n   {'SHI': 3,\n    'GON': 1,\n    'UMA': 0,\n    'KIN': 1,\n    'GIN': 1,\n    'KAK': 0,\n    'HSY': 0,\n    'GYK': 0},\n   {'SHI': 1,\n    'GON': 1,\n    'UMA': 1,\n    'KIN': 1,\n    'GIN': 1,\n    'KAK': 0,\n    'HSY': 1,\n    'GYK': 0}],\n  'board': [[[['NONE', False], ['NONE', False]],\n    [['NONE', False], ['NONE', False]],\n    [['NONE', False], ['NONE', False]],\n    [['NONE', False], ['NONE', False]]],\n   [[['NONE', False], ['NONE', False]],\n    [['NONE', False], ['NONE', False]],\n    [['NONE', False], ['NONE', False]],\n    [['NONE', False], ['NONE', False]]],\n   [[['SHI', True], ['KAK', False]],\n    [['NONE', False], ['NONE', False]],\n    [['NONE', False], ['NONE', False]],\n    [['NONE', False], ['NONE', False]]],\n   [[['KAK', False], ['HSY', False]],\n    [['NONE', False], ['NONE', False]],\n    [['NONE', False], ['NONE', False]],\n    [['NONE', False], ['NONE', False]]]]},\n {'played_player': 1,\n  'behavior': -1,\n  'hands': [{'SHI': 4,\n    'GON': 1,\n    'UMA': 1,\n    'KIN': 1,\n    'GIN': 0,\n    'KAK': 0,\n    'HSY': 0,\n    'GYK': 1},\n   {'SHI': 1,\n    'GON': 1,\n    'UMA': 2,\n    'KIN': 1,\n    'GIN': 2,\n    'KAK': 0,\n    'HSY': 0,\n    'GYK': 1},\n   {'SHI': 3,\n    'GON': 1,\n    'UMA': 0,\n    'KIN': 1,\n    'GIN': 1,\n    'KAK': 0,\n    'HSY': 0,\n    'GYK': 0},\n   {'SHI': 1,\n    'GON': 1,\n    'UMA': 1,\n    'KIN': 1,\n    'GIN': 1,\n    'KAK': 0,\n    'HSY': 1,\n    'GYK': 0}],\n  'board': [[[['NONE', False], ['NONE', False]],\n    [['NONE', False], ['NONE', False]],\n    [['NONE', False], ['NONE', False]],\n    [['NONE', False], ['NONE', False]]],\n   [[['NONE', False], ['NONE', False]],\n    [['NONE', False], ['NONE', False]],\n    [['NONE', False], ['NONE', False]],\n    [['NONE', False], ['NONE', False]]],\n   [[['SHI', True], ['KAK', False]],\n    [['NONE', False], ['NONE', False]],\n    [['NONE', False], ['NONE', False]],\n    [['NONE', False], ['NONE', False]]],\n   [[['KAK', False], ['HSY', False]],\n    [['NONE', False], ['NONE', False]],\n    [['NONE', False], ['NONE', False]],\n    [['NONE', False], ['NONE', False]]]]},\n {'played_player': 2,\n  'behavior': -1,\n  'hands': [{'SHI': 4,\n    'GON': 1,\n    'UMA': 1,\n    'KIN': 1,\n    'GIN': 0,\n    'KAK': 0,\n    'HSY': 0,\n    'GYK': 1},\n   {'SHI': 1,\n    'GON': 1,\n    'UMA': 2,\n    'KIN': 1,\n    'GIN': 2,\n    'KAK': 0,\n    'HSY': 0,\n    'GYK': 1},\n   {'SHI': 3,\n    'GON': 1,\n    'UMA': 0,\n    'KIN': 1,\n    'GIN': 1,\n    'KAK': 0,\n    'HSY': 0,\n    'GYK': 0},\n   {'SHI': 1,\n    'GON': 1,\n    'UMA': 1,\n    'KIN': 1,\n    'GIN': 1,\n    'KAK': 0,\n    'HSY': 1,\n    'GYK': 0}],\n  'board': [[[['NONE', False], ['NONE', False]],\n    [['NONE', False], ['NONE', False]],\n    [['NONE', False], ['NONE', False]],\n    [['NONE', False], ['NONE', False]]],\n   [[['NONE', False], ['NONE', False]],\n    [['NONE', False], ['NONE', False]],\n    [['NONE', False], ['NONE', False]],\n    [['NONE', False], ['NONE', False]]],\n   [[['SHI', True], ['KAK', False]],\n    [['NONE', False], ['NONE', False]],\n    [['NONE', False], ['NONE', False]],\n    [['NONE', False], ['NONE', False]]],\n   [[['KAK', False], ['HSY', False]],\n    [['NONE', False], ['NONE', False]],\n    [['NONE', False], ['NONE', False]],\n    [['NONE', False], ['NONE', False]]]]},\n {'played_player': 3,\n  'behavior': 7,\n  'hands': [{'SHI': 4,\n    'GON': 1,\n    'UMA': 1,\n    'KIN': 1,\n    'GIN': 0,\n    'KAK': 0,\n    'HSY': 0,\n    'GYK': 1},\n   {'SHI': 1,\n    'GON': 1,\n    'UMA': 2,\n    'KIN': 1,\n    'GIN': 2,\n    'KAK': 0,\n    'HSY': 0,\n    'GYK': 1},\n   {'SHI': 3,\n    'GON': 1,\n    'UMA': 0,\n    'KIN': 1,\n    'GIN': 1,\n    'KAK': 0,\n    'HSY': 0,\n    'GYK': 0},\n   {'SHI': 1,\n    'GON': 1,\n    'UMA': 0,\n    'KIN': 1,\n    'GIN': 1,\n    'KAK': 0,\n    'HSY': 0,\n    'GYK': 0}],\n  'board': [[[['NONE', False], ['NONE', False]],\n    [['NONE', False], ['NONE', False]],\n    [['NONE', False], ['NONE', False]],\n    [['NONE', False], ['NONE', False]]],\n   [[['NONE', False], ['NONE', False]],\n    [['NONE', False], ['NONE', False]],\n    [['NONE', False], ['NONE', False]],\n    [['NONE', False], ['NONE', False]]],\n   [[['SHI', True], ['KAK', False]],\n    [['NONE', False], ['NONE', False]],\n    [['NONE', False], ['NONE', False]],\n    [['NONE', False], ['NONE', False]]],\n   [[['KAK', False], ['HSY', False]],\n    [['UMA', True], ['HSY', False]],\n    [['NONE', False], ['NONE', False]],\n    [['NONE', False], ['NONE', False]]]]},\n {'played_player': 0,\n  'behavior': -1,\n  'hands': [{'SHI': 4,\n    'GON': 1,\n    'UMA': 1,\n    'KIN': 1,\n    'GIN': 0,\n    'KAK': 0,\n    'HSY': 0,\n    'GYK': 1},\n   {'SHI': 1,\n    'GON': 1,\n    'UMA': 2,\n    'KIN': 1,\n    'GIN': 2,\n    'KAK': 0,\n    'HSY': 0,\n    'GYK': 1},\n   {'SHI': 3,\n    'GON': 1,\n    'UMA': 0,\n    'KIN': 1,\n    'GIN': 1,\n    'KAK': 0,\n    'HSY': 0,\n    'GYK': 0},\n   {'SHI': 1,\n    'GON': 1,\n    'UMA': 0,\n    'KIN': 1,\n    'GIN': 1,\n    'KAK': 0,\n    'HSY': 0,\n    'GYK': 0}],\n  'board': [[[['NONE', False], ['NONE', False]],\n    [['NONE', False], ['NONE', False]],\n    [['NONE', False], ['NONE', False]],\n    [['NONE', False], ['NONE', False]]],\n   [[['NONE', False], ['NONE', False]],\n    [['NONE', False], ['NONE', False]],\n    [['NONE', False], ['NONE', False]],\n    [['NONE', False], ['NONE', False]]],\n   [[['SHI', True], ['KAK', False]],\n    [['NONE', False], ['NONE', False]],\n    [['NONE', False], ['NONE', False]],\n    [['NONE', False], ['NONE', False]]],\n   [[['KAK', False], ['HSY', False]],\n    [['UMA', True], ['HSY', False]],\n    [['NONE', False], ['NONE', False]],\n    [['NONE', False], ['NONE', False]]]]},\n {'played_player': 1,\n  'behavior': -1,\n  'hands': [{'SHI': 4,\n    'GON': 1,\n    'UMA': 1,\n    'KIN': 1,\n    'GIN': 0,\n    'KAK': 0,\n    'HSY': 0,\n    'GYK': 1},\n   {'SHI': 1,\n    'GON': 1,\n    'UMA': 2,\n    'KIN': 1,\n    'GIN': 2,\n    'KAK': 0,\n    'HSY': 0,\n    'GYK': 1},\n   {'SHI': 3,\n    'GON': 1,\n    'UMA': 0,\n    'KIN': 1,\n    'GIN': 1,\n    'KAK': 0,\n    'HSY': 0,\n    'GYK': 0},\n   {'SHI': 1,\n    'GON': 1,\n    'UMA': 0,\n    'KIN': 1,\n    'GIN': 1,\n    'KAK': 0,\n    'HSY': 0,\n    'GYK': 0}],\n  'board': [[[['NONE', False], ['NONE', False]],\n    [['NONE', False], ['NONE', False]],\n    [['NONE', False], ['NONE', False]],\n    [['NONE', False], ['NONE', False]]],\n   [[['NONE', False], ['NONE', False]],\n    [['NONE', False], ['NONE', False]],\n    [['NONE', False], ['NONE', False]],\n    [['NONE', False], ['NONE', False]]],\n   [[['SHI', True], ['KAK', False]],\n    [['NONE', False], ['NONE', False]],\n    [['NONE', False], ['NONE', False]],\n    [['NONE', False], ['NONE', False]]],\n   [[['KAK', False], ['HSY', False]],\n    [['UMA', True], ['HSY', False]],\n    [['NONE', False], ['NONE', False]],\n    [['NONE', False], ['NONE', False]]]]},\n {'played_player': 2,\n  'behavior': -1,\n  'hands': [{'SHI': 4,\n    'GON': 1,\n    'UMA': 1,\n    'KIN': 1,\n    'GIN': 0,\n    'KAK': 0,\n    'HSY': 0,\n    'GYK': 1},\n   {'SHI': 1,\n    'GON': 1,\n    'UMA': 2,\n    'KIN': 1,\n    'GIN': 2,\n    'KAK': 0,\n    'HSY': 0,\n    'GYK': 1},\n   {'SHI': 3,\n    'GON': 1,\n    'UMA': 0,\n    'KIN': 1,\n    'GIN': 1,\n    'KAK': 0,\n    'HSY': 0,\n    'GYK': 0},\n   {'SHI': 1,\n    'GON': 1,\n    'UMA': 0,\n    'KIN': 1,\n    'GIN': 1,\n    'KAK': 0,\n    'HSY': 0,\n    'GYK': 0}],\n  'board': [[[['NONE', False], ['NONE', False]],\n    [['NONE', False], ['NONE', False]],\n    [['NONE', False], ['NONE', False]],\n    [['NONE', False], ['NONE', False]]],\n   [[['NONE', False], ['NONE', False]],\n    [['NONE', False], ['NONE', False]],\n    [['NONE', False], ['NONE', False]],\n    [['NONE', False], ['NONE', False]]],\n   [[['SHI', True], ['KAK', False]],\n    [['NONE', False], ['NONE', False]],\n    [['NONE', False], ['NONE', False]],\n    [['NONE', False], ['NONE', False]]],\n   [[['KAK', False], ['HSY', False]],\n    [['UMA', True], ['HSY', False]],\n    [['NONE', False], ['NONE', False]],\n    [['NONE', False], ['NONE', False]]]]},\n {'played_player': 3,\n  'behavior': 4,\n  'hands': [{'SHI': 4,\n    'GON': 1,\n    'UMA': 1,\n    'KIN': 1,\n    'GIN': 0,\n    'KAK': 0,\n    'HSY': 0,\n    'GYK': 1},\n   {'SHI': 1,\n    'GON': 1,\n    'UMA': 2,\n    'KIN': 1,\n    'GIN': 2,\n    'KAK': 0,\n    'HSY': 0,\n    'GYK': 1},\n   {'SHI': 3,\n    'GON': 1,\n    'UMA': 0,\n    'KIN': 1,\n    'GIN': 1,\n    'KAK': 0,\n    'HSY': 0,\n    'GYK': 0},\n   {'SHI': 0,\n    'GON': 1,\n    'UMA': 0,\n    'KIN': 0,\n    'GIN': 1,\n    'KAK': 0,\n    'HSY': 0,\n    'GYK': 0}],\n  'board': [[[['NONE', False], ['NONE', False]],\n    [['NONE', False], ['NONE', False]],\n    [['NONE', False], ['NONE', False]],\n    [['NONE', False], ['NONE', False]]],\n   [[['NONE', False], ['NONE', False]],\n    [['NONE', False], ['NONE', False]],\n    [['NONE', False], ['NONE', False]],\n    [['NONE', False], ['NONE', False]]],\n   [[['SHI', True], ['KAK', False]],\n    [['NONE', False], ['NONE', False]],\n    [['NONE', False], ['NONE', False]],\n    [['NONE', False], ['NONE', False]]],\n   [[['KAK', False], ['HSY', False]],\n    [['UMA', True], ['HSY', False]],\n    [['SHI', True], ['KIN', False]],\n    [['NONE', False], ['NONE', False]]]]},\n {'played_player': 0,\n  'behavior': 1,\n  'hands': [{'SHI': 3,\n    'GON': 1,\n    'UMA': 1,\n    'KIN': 0,\n    'GIN': 0,\n    'KAK': 0,\n    'HSY': 0,\n    'GYK': 1},\n   {'SHI': 1,\n    'GON': 1,\n    'UMA': 2,\n    'KIN': 1,\n    'GIN': 2,\n    'KAK': 0,\n    'HSY': 0,\n    'GYK': 1},\n   {'SHI': 3,\n    'GON': 1,\n    'UMA': 0,\n    'KIN': 1,\n    'GIN': 1,\n    'KAK': 0,\n    'HSY': 0,\n    'GYK': 0},\n   {'SHI': 0,\n    'GON': 1,\n    'UMA': 0,\n    'KIN': 0,\n    'GIN': 1,\n    'KAK': 0,\n    'HSY': 0,\n    'GYK': 0}],\n  'board': [[[['KIN', False], ['SHI', False]],\n    [['NONE', False], ['NONE', False]],\n    [['NONE', False], ['NONE', False]],\n    [['NONE', False], ['NONE', False]]],\n   [[['NONE', False], ['NONE', False]],\n    [['NONE', False], ['NONE', False]],\n    [['NONE', False], ['NONE', False]],\n    [['NONE', False], ['NONE', False]]],\n   [[['SHI', True], ['KAK', False]],\n    [['NONE', False], ['NONE', False]],\n    [['NONE', False], ['NONE', False]],\n    [['NONE', False], ['NONE', False]]],\n   [[['KAK', False], ['HSY', False]],\n    [['UMA', True], ['HSY', False]],\n    [['SHI', True], ['KIN', False]],\n    [['NONE', False], ['NONE', False]]]]},\n {'played_player': 1,\n  'behavior': -1,\n  'hands': [{'SHI': 3,\n    'GON': 1,\n    'UMA': 1,\n    'KIN': 0,\n    'GIN': 0,\n    'KAK': 0,\n    'HSY': 0,\n    'GYK': 1},\n   {'SHI': 1,\n    'GON': 1,\n    'UMA': 2,\n    'KIN': 1,\n    'GIN': 2,\n    'KAK': 0,\n    'HSY': 0,\n    'GYK': 1},\n   {'SHI': 3,\n    'GON': 1,\n    'UMA': 0,\n    'KIN': 1,\n    'GIN': 1,\n    'KAK': 0,\n    'HSY': 0,\n    'GYK': 0},\n   {'SHI': 0,\n    'GON': 1,\n    'UMA': 0,\n    'KIN': 0,\n    'GIN': 1,\n    'KAK': 0,\n    'HSY': 0,\n    'GYK': 0}],\n  'board': [[[['KIN', False], ['SHI', False]],\n    [['NONE', False], ['NONE', False]],\n    [['NONE', False], ['NONE', False]],\n    [['NONE', False], ['NONE', False]]],\n   [[['NONE', False], ['NONE', False]],\n    [['NONE', False], ['NONE', False]],\n    [['NONE', False], ['NONE', False]],\n    [['NONE', False], ['NONE', False]]],\n   [[['SHI', True], ['KAK', False]],\n    [['NONE', False], ['NONE', False]],\n    [['NONE', False], ['NONE', False]],\n    [['NONE', False], ['NONE', False]]],\n   [[['KAK', False], ['HSY', False]],\n    [['UMA', True], ['HSY', False]],\n    [['SHI', True], ['KIN', False]],\n    [['NONE', False], ['NONE', False]]]]},\n {'played_player': 2,\n  'behavior': -1,\n  'hands': [{'SHI': 3,\n    'GON': 1,\n    'UMA': 1,\n    'KIN': 0,\n    'GIN': 0,\n    'KAK': 0,\n    'HSY': 0,\n    'GYK': 1},\n   {'SHI': 1,\n    'GON': 1,\n    'UMA': 2,\n    'KIN': 1,\n    'GIN': 2,\n    'KAK': 0,\n    'HSY': 0,\n    'GYK': 1},\n   {'SHI': 3,\n    'GON': 1,\n    'UMA': 0,\n    'KIN': 1,\n    'GIN': 1,\n    'KAK': 0,\n    'HSY': 0,\n    'GYK': 0},\n   {'SHI': 0,\n    'GON': 1,\n    'UMA': 0,\n    'KIN': 0,\n    'GIN': 1,\n    'KAK': 0,\n    'HSY': 0,\n    'GYK': 0}],\n  'board': [[[['KIN', False], ['SHI', False]],\n    [['NONE', False], ['NONE', False]],\n    [['NONE', False], ['NONE', False]],\n    [['NONE', False], ['NONE', False]]],\n   [[['NONE', False], ['NONE', False]],\n    [['NONE', False], ['NONE', False]],\n    [['NONE', False], ['NONE', False]],\n    [['NONE', False], ['NONE', False]]],\n   [[['SHI', True], ['KAK', False]],\n    [['NONE', False], ['NONE', False]],\n    [['NONE', False], ['NONE', False]],\n    [['NONE', False], ['NONE', False]]],\n   [[['KAK', False], ['HSY', False]],\n    [['UMA', True], ['HSY', False]],\n    [['SHI', True], ['KIN', False]],\n    [['NONE', False], ['NONE', False]]]]},\n {'played_player': 3,\n  'behavior': -1,\n  'hands': [{'SHI': 3,\n    'GON': 1,\n    'UMA': 1,\n    'KIN': 0,\n    'GIN': 0,\n    'KAK': 0,\n    'HSY': 0,\n    'GYK': 1},\n   {'SHI': 1,\n    'GON': 1,\n    'UMA': 2,\n    'KIN': 1,\n    'GIN': 2,\n    'KAK': 0,\n    'HSY': 0,\n    'GYK': 1},\n   {'SHI': 3,\n    'GON': 1,\n    'UMA': 0,\n    'KIN': 1,\n    'GIN': 1,\n    'KAK': 0,\n    'HSY': 0,\n    'GYK': 0},\n   {'SHI': 0,\n    'GON': 1,\n    'UMA': 0,\n    'KIN': 0,\n    'GIN': 1,\n    'KAK': 0,\n    'HSY': 0,\n    'GYK': 0}],\n  'board': [[[['KIN', False], ['SHI', False]],\n    [['NONE', False], ['NONE', False]],\n    [['NONE', False], ['NONE', False]],\n    [['NONE', False], ['NONE', False]]],\n   [[['NONE', False], ['NONE', False]],\n    [['NONE', False], ['NONE', False]],\n    [['NONE', False], ['NONE', False]],\n    [['NONE', False], ['NONE', False]]],\n   [[['SHI', True], ['KAK', False]],\n    [['NONE', False], ['NONE', False]],\n    [['NONE', False], ['NONE', False]],\n    [['NONE', False], ['NONE', False]]],\n   [[['KAK', False], ['HSY', False]],\n    [['UMA', True], ['HSY', False]],\n    [['SHI', True], ['KIN', False]],\n    [['NONE', False], ['NONE', False]]]]},\n {'played_player': 0,\n  'behavior': 1,\n  'hands': [{'SHI': 1,\n    'GON': 1,\n    'UMA': 1,\n    'KIN': 0,\n    'GIN': 0,\n    'KAK': 0,\n    'HSY': 0,\n    'GYK': 1},\n   {'SHI': 1,\n    'GON': 1,\n    'UMA': 2,\n    'KIN': 1,\n    'GIN': 2,\n    'KAK': 0,\n    'HSY': 0,\n    'GYK': 1},\n   {'SHI': 3,\n    'GON': 1,\n    'UMA': 0,\n    'KIN': 1,\n    'GIN': 1,\n    'KAK': 0,\n    'HSY': 0,\n    'GYK': 0},\n   {'SHI': 0,\n    'GON': 1,\n    'UMA': 0,\n    'KIN': 0,\n    'GIN': 1,\n    'KAK': 0,\n    'HSY': 0,\n    'GYK': 0}],\n  'board': [[[['KIN', False], ['SHI', False]],\n    [['SHI', True], ['SHI', False]],\n    [['NONE', False], ['NONE', False]],\n    [['NONE', False], ['NONE', False]]],\n   [[['NONE', False], ['NONE', False]],\n    [['NONE', False], ['NONE', False]],\n    [['NONE', False], ['NONE', False]],\n    [['NONE', False], ['NONE', False]]],\n   [[['SHI', True], ['KAK', False]],\n    [['NONE', False], ['NONE', False]],\n    [['NONE', False], ['NONE', False]],\n    [['NONE', False], ['NONE', False]]],\n   [[['KAK', False], ['HSY', False]],\n    [['UMA', True], ['HSY', False]],\n    [['SHI', True], ['KIN', False]],\n    [['NONE', False], ['NONE', False]]]]},\n {'played_player': 1,\n  'behavior': 5,\n  'hands': [{'SHI': 1,\n    'GON': 1,\n    'UMA': 1,\n    'KIN': 0,\n    'GIN': 0,\n    'KAK': 0,\n    'HSY': 0,\n    'GYK': 1},\n   {'SHI': 0,\n    'GON': 1,\n    'UMA': 2,\n    'KIN': 1,\n    'GIN': 1,\n    'KAK': 0,\n    'HSY': 0,\n    'GYK': 1},\n   {'SHI': 3,\n    'GON': 1,\n    'UMA': 0,\n    'KIN': 1,\n    'GIN': 1,\n    'KAK': 0,\n    'HSY': 0,\n    'GYK': 0},\n   {'SHI': 0,\n    'GON': 1,\n    'UMA': 0,\n    'KIN': 0,\n    'GIN': 1,\n    'KAK': 0,\n    'HSY': 0,\n    'GYK': 0}],\n  'board': [[[['KIN', False], ['SHI', False]],\n    [['SHI', True], ['SHI', False]],\n    [['NONE', False], ['NONE', False]],\n    [['NONE', False], ['NONE', False]]],\n   [[['SHI', False], ['GIN', False]],\n    [['NONE', False], ['NONE', False]],\n    [['NONE', False], ['NONE', False]],\n    [['NONE', False], ['NONE', False]]],\n   [[['SHI', True], ['KAK', False]],\n    [['NONE', False], ['NONE', False]],\n    [['NONE', False], ['NONE', False]],\n    [['NONE', False], ['NONE', False]]],\n   [[['KAK', False], ['HSY', False]],\n    [['UMA', True], ['HSY', False]],\n    [['SHI', True], ['KIN', False]],\n    [['NONE', False], ['NONE', False]]]]},\n {'played_player': 2,\n  'behavior': 1,\n  'hands': [{'SHI': 1,\n    'GON': 1,\n    'UMA': 1,\n    'KIN': 0,\n    'GIN': 0,\n    'KAK': 0,\n    'HSY': 0,\n    'GYK': 1},\n   {'SHI': 0,\n    'GON': 1,\n    'UMA': 2,\n    'KIN': 1,\n    'GIN': 1,\n    'KAK': 0,\n    'HSY': 0,\n    'GYK': 1},\n   {'SHI': 2,\n    'GON': 1,\n    'UMA': 0,\n    'KIN': 1,\n    'GIN': 0,\n    'KAK': 0,\n    'HSY': 0,\n    'GYK': 0},\n   {'SHI': 0,\n    'GON': 1,\n    'UMA': 0,\n    'KIN': 0,\n    'GIN': 1,\n    'KAK': 0,\n    'HSY': 0,\n    'GYK': 0}],\n  'board': [[[['KIN', False], ['SHI', False]],\n    [['SHI', True], ['SHI', False]],\n    [['NONE', False], ['NONE', False]],\n    [['NONE', False], ['NONE', False]]],\n   [[['SHI', False], ['GIN', False]],\n    [['NONE', False], ['NONE', False]],\n    [['NONE', False], ['NONE', False]],\n    [['NONE', False], ['NONE', False]]],\n   [[['SHI', True], ['KAK', False]],\n    [['GIN', False], ['SHI', False]],\n    [['NONE', False], ['NONE', False]],\n    [['NONE', False], ['NONE', False]]],\n   [[['KAK', False], ['HSY', False]],\n    [['UMA', True], ['HSY', False]],\n    [['SHI', True], ['KIN', False]],\n    [['NONE', False], ['NONE', False]]]]},\n {'played_player': 3,\n  'behavior': -1,\n  'hands': [{'SHI': 1,\n    'GON': 1,\n    'UMA': 1,\n    'KIN': 0,\n    'GIN': 0,\n    'KAK': 0,\n    'HSY': 0,\n    'GYK': 1},\n   {'SHI': 0,\n    'GON': 1,\n    'UMA': 2,\n    'KIN': 1,\n    'GIN': 1,\n    'KAK': 0,\n    'HSY': 0,\n    'GYK': 1},\n   {'SHI': 2,\n    'GON': 1,\n    'UMA': 0,\n    'KIN': 1,\n    'GIN': 0,\n    'KAK': 0,\n    'HSY': 0,\n    'GYK': 0},\n   {'SHI': 0,\n    'GON': 1,\n    'UMA': 0,\n    'KIN': 0,\n    'GIN': 1,\n    'KAK': 0,\n    'HSY': 0,\n    'GYK': 0}],\n  'board': [[[['KIN', False], ['SHI', False]],\n    [['SHI', True], ['SHI', False]],\n    [['NONE', False], ['NONE', False]],\n    [['NONE', False], ['NONE', False]]],\n   [[['SHI', False], ['GIN', False]],\n    [['NONE', False], ['NONE', False]],\n    [['NONE', False], ['NONE', False]],\n    [['NONE', False], ['NONE', False]]],\n   [[['SHI', True], ['KAK', False]],\n    [['GIN', False], ['SHI', False]],\n    [['NONE', False], ['NONE', False]],\n    [['NONE', False], ['NONE', False]]],\n   [[['KAK', False], ['HSY', False]],\n    [['UMA', True], ['HSY', False]],\n    [['SHI', True], ['KIN', False]],\n    [['NONE', False], ['NONE', False]]]]},\n {'played_player': 0,\n  'behavior': -1,\n  'hands': [{'SHI': 1,\n    'GON': 1,\n    'UMA': 1,\n    'KIN': 0,\n    'GIN': 0,\n    'KAK': 0,\n    'HSY': 0,\n    'GYK': 1},\n   {'SHI': 0,\n    'GON': 1,\n    'UMA': 2,\n    'KIN': 1,\n    'GIN': 1,\n    'KAK': 0,\n    'HSY': 0,\n    'GYK': 1},\n   {'SHI': 2,\n    'GON': 1,\n    'UMA': 0,\n    'KIN': 1,\n    'GIN': 0,\n    'KAK': 0,\n    'HSY': 0,\n    'GYK': 0},\n   {'SHI': 0,\n    'GON': 1,\n    'UMA': 0,\n    'KIN': 0,\n    'GIN': 1,\n    'KAK': 0,\n    'HSY': 0,\n    'GYK': 0}],\n  'board': [[[['KIN', False], ['SHI', False]],\n    [['SHI', True], ['SHI', False]],\n    [['NONE', False], ['NONE', False]],\n    [['NONE', False], ['NONE', False]]],\n   [[['SHI', False], ['GIN', False]],\n    [['NONE', False], ['NONE', False]],\n    [['NONE', False], ['NONE', False]],\n    [['NONE', False], ['NONE', False]]],\n   [[['SHI', True], ['KAK', False]],\n    [['GIN', False], ['SHI', False]],\n    [['NONE', False], ['NONE', False]],\n    [['NONE', False], ['NONE', False]]],\n   [[['KAK', False], ['HSY', False]],\n    [['UMA', True], ['HSY', False]],\n    [['SHI', True], ['KIN', False]],\n    [['NONE', False], ['NONE', False]]]]},\n {'played_player': 1,\n  'behavior': -1,\n  'hands': [{'SHI': 1,\n    'GON': 1,\n    'UMA': 1,\n    'KIN': 0,\n    'GIN': 0,\n    'KAK': 0,\n    'HSY': 0,\n    'GYK': 1},\n   {'SHI': 0,\n    'GON': 1,\n    'UMA': 2,\n    'KIN': 1,\n    'GIN': 1,\n    'KAK': 0,\n    'HSY': 0,\n    'GYK': 1},\n   {'SHI': 2,\n    'GON': 1,\n    'UMA': 0,\n    'KIN': 1,\n    'GIN': 0,\n    'KAK': 0,\n    'HSY': 0,\n    'GYK': 0},\n   {'SHI': 0,\n    'GON': 1,\n    'UMA': 0,\n    'KIN': 0,\n    'GIN': 1,\n    'KAK': 0,\n    'HSY': 0,\n    'GYK': 0}],\n  'board': [[[['KIN', False], ['SHI', False]],\n    [['SHI', True], ['SHI', False]],\n    [['NONE', False], ['NONE', False]],\n    [['NONE', False], ['NONE', False]]],\n   [[['SHI', False], ['GIN', False]],\n    [['NONE', False], ['NONE', False]],\n    [['NONE', False], ['NONE', False]],\n    [['NONE', False], ['NONE', False]]],\n   [[['SHI', True], ['KAK', False]],\n    [['GIN', False], ['SHI', False]],\n    [['NONE', False], ['NONE', False]],\n    [['NONE', False], ['NONE', False]]],\n   [[['KAK', False], ['HSY', False]],\n    [['UMA', True], ['HSY', False]],\n    [['SHI', True], ['KIN', False]],\n    [['NONE', False], ['NONE', False]]]]},\n {'played_player': 2,\n  'behavior': 1,\n  'hands': [{'SHI': 1,\n    'GON': 1,\n    'UMA': 1,\n    'KIN': 0,\n    'GIN': 0,\n    'KAK': 0,\n    'HSY': 0,\n    'GYK': 1},\n   {'SHI': 0,\n    'GON': 1,\n    'UMA': 2,\n    'KIN': 1,\n    'GIN': 1,\n    'KAK': 0,\n    'HSY': 0,\n    'GYK': 1},\n   {'SHI': 0,\n    'GON': 1,\n    'UMA': 0,\n    'KIN': 1,\n    'GIN': 0,\n    'KAK': 0,\n    'HSY': 0,\n    'GYK': 0},\n   {'SHI': 0,\n    'GON': 1,\n    'UMA': 0,\n    'KIN': 0,\n    'GIN': 1,\n    'KAK': 0,\n    'HSY': 0,\n    'GYK': 0}],\n  'board': [[[['KIN', False], ['SHI', False]],\n    [['SHI', True], ['SHI', False]],\n    [['NONE', False], ['NONE', False]],\n    [['NONE', False], ['NONE', False]]],\n   [[['SHI', False], ['GIN', False]],\n    [['NONE', False], ['NONE', False]],\n    [['NONE', False], ['NONE', False]],\n    [['NONE', False], ['NONE', False]]],\n   [[['SHI', True], ['KAK', False]],\n    [['GIN', False], ['SHI', False]],\n    [['SHI', True], ['SHI', False]],\n    [['NONE', False], ['NONE', False]]],\n   [[['KAK', False], ['HSY', False]],\n    [['UMA', True], ['HSY', False]],\n    [['SHI', True], ['KIN', False]],\n    [['NONE', False], ['NONE', False]]]]},\n {'played_player': 3,\n  'behavior': -1,\n  'hands': [{'SHI': 1,\n    'GON': 1,\n    'UMA': 1,\n    'KIN': 0,\n    'GIN': 0,\n    'KAK': 0,\n    'HSY': 0,\n    'GYK': 1},\n   {'SHI': 0,\n    'GON': 1,\n    'UMA': 2,\n    'KIN': 1,\n    'GIN': 1,\n    'KAK': 0,\n    'HSY': 0,\n    'GYK': 1},\n   {'SHI': 0,\n    'GON': 1,\n    'UMA': 0,\n    'KIN': 1,\n    'GIN': 0,\n    'KAK': 0,\n    'HSY': 0,\n    'GYK': 0},\n   {'SHI': 0,\n    'GON': 1,\n    'UMA': 0,\n    'KIN': 0,\n    'GIN': 1,\n    'KAK': 0,\n    'HSY': 0,\n    'GYK': 0}],\n  'board': [[[['KIN', False], ['SHI', False]],\n    [['SHI', True], ['SHI', False]],\n    [['NONE', False], ['NONE', False]],\n    [['NONE', False], ['NONE', False]]],\n   [[['SHI', False], ['GIN', False]],\n    [['NONE', False], ['NONE', False]],\n    [['NONE', False], ['NONE', False]],\n    [['NONE', False], ['NONE', False]]],\n   [[['SHI', True], ['KAK', False]],\n    [['GIN', False], ['SHI', False]],\n    [['SHI', True], ['SHI', False]],\n    [['NONE', False], ['NONE', False]]],\n   [[['KAK', False], ['HSY', False]],\n    [['UMA', True], ['HSY', False]],\n    [['SHI', True], ['KIN', False]],\n    [['NONE', False], ['NONE', False]]]]},\n {'played_player': 0,\n  'behavior': -1,\n  'hands': [{'SHI': 1,\n    'GON': 1,\n    'UMA': 1,\n    'KIN': 0,\n    'GIN': 0,\n    'KAK': 0,\n    'HSY': 0,\n    'GYK': 1},\n   {'SHI': 0,\n    'GON': 1,\n    'UMA': 2,\n    'KIN': 1,\n    'GIN': 1,\n    'KAK': 0,\n    'HSY': 0,\n    'GYK': 1},\n   {'SHI': 0,\n    'GON': 1,\n    'UMA': 0,\n    'KIN': 1,\n    'GIN': 0,\n    'KAK': 0,\n    'HSY': 0,\n    'GYK': 0},\n   {'SHI': 0,\n    'GON': 1,\n    'UMA': 0,\n    'KIN': 0,\n    'GIN': 1,\n    'KAK': 0,\n    'HSY': 0,\n    'GYK': 0}],\n  'board': [[[['KIN', False], ['SHI', False]],\n    [['SHI', True], ['SHI', False]],\n    [['NONE', False], ['NONE', False]],\n    [['NONE', False], ['NONE', False]]],\n   [[['SHI', False], ['GIN', False]],\n    [['NONE', False], ['NONE', False]],\n    [['NONE', False], ['NONE', False]],\n    [['NONE', False], ['NONE', False]]],\n   [[['SHI', True], ['KAK', False]],\n    [['GIN', False], ['SHI', False]],\n    [['SHI', True], ['SHI', False]],\n    [['NONE', False], ['NONE', False]]],\n   [[['KAK', False], ['HSY', False]],\n    [['UMA', True], ['HSY', False]],\n    [['SHI', True], ['KIN', False]],\n    [['NONE', False], ['NONE', False]]]]},\n {'played_player': 1,\n  'behavior': -1,\n  'hands': [{'SHI': 1,\n    'GON': 1,\n    'UMA': 1,\n    'KIN': 0,\n    'GIN': 0,\n    'KAK': 0,\n    'HSY': 0,\n    'GYK': 1},\n   {'SHI': 0,\n    'GON': 1,\n    'UMA': 2,\n    'KIN': 1,\n    'GIN': 1,\n    'KAK': 0,\n    'HSY': 0,\n    'GYK': 1},\n   {'SHI': 0,\n    'GON': 1,\n    'UMA': 0,\n    'KIN': 1,\n    'GIN': 0,\n    'KAK': 0,\n    'HSY': 0,\n    'GYK': 0},\n   {'SHI': 0,\n    'GON': 1,\n    'UMA': 0,\n    'KIN': 0,\n    'GIN': 1,\n    'KAK': 0,\n    'HSY': 0,\n    'GYK': 0}],\n  'board': [[[['KIN', False], ['SHI', False]],\n    [['SHI', True], ['SHI', False]],\n    [['NONE', False], ['NONE', False]],\n    [['NONE', False], ['NONE', False]]],\n   [[['SHI', False], ['GIN', False]],\n    [['NONE', False], ['NONE', False]],\n    [['NONE', False], ['NONE', False]],\n    [['NONE', False], ['NONE', False]]],\n   [[['SHI', True], ['KAK', False]],\n    [['GIN', False], ['SHI', False]],\n    [['SHI', True], ['SHI', False]],\n    [['NONE', False], ['NONE', False]]],\n   [[['KAK', False], ['HSY', False]],\n    [['UMA', True], ['HSY', False]],\n    [['SHI', True], ['KIN', False]],\n    [['NONE', False], ['NONE', False]]]]},\n {'played_player': 2,\n  'behavior': 4,\n  'hands': [{'SHI': 1,\n    'GON': 1,\n    'UMA': 1,\n    'KIN': 0,\n    'GIN': 0,\n    'KAK': 0,\n    'HSY': 0,\n    'GYK': 1},\n   {'SHI': 0,\n    'GON': 1,\n    'UMA': 2,\n    'KIN': 1,\n    'GIN': 1,\n    'KAK': 0,\n    'HSY': 0,\n    'GYK': 1},\n   {'SHI': 0,\n    'GON': 0,\n    'UMA': 0,\n    'KIN': 0,\n    'GIN': 0,\n    'KAK': 0,\n    'HSY': 0,\n    'GYK': 0},\n   {'SHI': 0,\n    'GON': 1,\n    'UMA': 0,\n    'KIN': 0,\n    'GIN': 1,\n    'KAK': 0,\n    'HSY': 0,\n    'GYK': 0}],\n  'board': [[[['KIN', False], ['SHI', False]],\n    [['SHI', True], ['SHI', False]],\n    [['NONE', False], ['NONE', False]],\n    [['NONE', False], ['NONE', False]]],\n   [[['SHI', False], ['GIN', False]],\n    [['NONE', False], ['NONE', False]],\n    [['NONE', False], ['NONE', False]],\n    [['NONE', False], ['NONE', False]]],\n   [[['SHI', True], ['KAK', False]],\n    [['GIN', False], ['SHI', False]],\n    [['SHI', True], ['SHI', False]],\n    [['GON', True], ['KIN', False]]],\n   [[['KAK', False], ['HSY', False]],\n    [['UMA', True], ['HSY', False]],\n    [['SHI', True], ['KIN', False]],\n    [['NONE', False], ['NONE', False]]]]}]"
     },
     "execution_count": 4,
     "metadata": {},
     "output_type": "execute_result"
    }
   ],
   "source": [
    "import importlib\n",
    "importlib.reload(pg)\n",
    "master = pg.GameRound()\n",
    "master.start_game(hands=convert_hands(log1[\"hand\"]))\n",
    "\n",
    "for play_log in log1[\"game\"]:\n",
    "    master.update_hand(int(play_log[0]),  pg.Koma.from_str(play_log[2]), pg.Koma.from_str(play_log[1]) )\n",
    "\n",
    "master.to_dict()"
   ],
   "metadata": {
    "collapsed": false,
    "ExecuteTime": {
     "end_time": "2023-05-07T07:14:48.082037Z",
     "start_time": "2023-05-07T07:14:48.041581Z"
    }
   }
  },
  {
   "cell_type": "code",
   "execution_count": 5,
   "outputs": [
    {
     "data": {
      "text/plain": "True"
     },
     "execution_count": 5,
     "metadata": {},
     "output_type": "execute_result"
    }
   ],
   "source": [
    "master.is_game_ended()"
   ],
   "metadata": {
    "collapsed": false,
    "ExecuteTime": {
     "end_time": "2023-05-07T07:14:59.140654Z",
     "start_time": "2023-05-07T07:14:59.135923Z"
    }
   }
  },
  {
   "cell_type": "code",
   "execution_count": 8,
   "outputs": [],
   "source": [
    "import json\n",
    "with open(\"../extendedData/test1.json\", mode=\"w\", encoding=\"utf-8\") as f:\n",
    "    json.dump(master.to_dict(), f, indent=4)"
   ],
   "metadata": {
    "collapsed": false,
    "ExecuteTime": {
     "end_time": "2023-05-06T15:42:13.974897Z",
     "start_time": "2023-05-06T15:42:13.955930Z"
    }
   }
  },
  {
   "cell_type": "code",
   "execution_count": null,
   "outputs": [],
   "source": [
    "import glob\n",
    "import pyGoita as pg\n",
    "import json\n",
    "from collections import Counter\n",
    "import yaml\n",
    "\n",
    "files = glob.glob(\"../data/*\")\n",
    "\n",
    "for file in files:\n",
    "    with open(file, encoding=\"utf-8\") as f:\n",
    "        data = yaml.safe_load(f)\n",
    "\n",
    "    for i, log in enumerate(data[\"log\"]):\n",
    "        master = pg.GameMaster()\n",
    "        master.start_game(hands=convert_hands(log[\"hand\"]))\n",
    "\n",
    "        for play_log in log1[\"game\"]:\n",
    "            master.update_hand(int(play_log[0]),  pg.Koma.from_str(play_log[2]), pg.Koma.from_str(play_log[1]))\n",
    "\n",
    "        log_data = master.to_dict()\n",
    "        log_data[\"score\"] = log[\"score\"]\n",
    "\n",
    "        with open(f\"../extendedData/{file}-{i}.json\", encoding=\"utf-8\", mode=\"w\") as f:\n",
    "            json.dump(log_data, f, indent=4)"
   ],
   "metadata": {
    "collapsed": false
   }
  },
  {
   "cell_type": "code",
   "execution_count": 3,
   "outputs": [
    {
     "ename": "NameError",
     "evalue": "name 'glob' is not defined",
     "output_type": "error",
     "traceback": [
      "\u001B[1;31m---------------------------------------------------------------------------\u001B[0m",
      "\u001B[1;31mNameError\u001B[0m                                 Traceback (most recent call last)",
      "Cell \u001B[1;32mIn[3], line 1\u001B[0m\n\u001B[1;32m----> 1\u001B[0m files \u001B[38;5;241m=\u001B[39m \u001B[43mglob\u001B[49m\u001B[38;5;241m.\u001B[39mglob(\u001B[38;5;124m\"\u001B[39m\u001B[38;5;124m../data/*\u001B[39m\u001B[38;5;124m\"\u001B[39m)\n",
      "\u001B[1;31mNameError\u001B[0m: name 'glob' is not defined"
     ]
    }
   ],
   "source": [
    "files = glob.glob(\"../data/*\")"
   ],
   "metadata": {
    "collapsed": false,
    "ExecuteTime": {
     "end_time": "2023-05-11T07:19:07.707481200Z",
     "start_time": "2023-05-11T07:19:07.684513200Z"
    }
   }
  }
 ],
 "metadata": {
  "kernelspec": {
   "display_name": "Python 3",
   "language": "python",
   "name": "python3"
  },
  "language_info": {
   "codemirror_mode": {
    "name": "ipython",
    "version": 2
   },
   "file_extension": ".py",
   "mimetype": "text/x-python",
   "name": "python",
   "nbconvert_exporter": "python",
   "pygments_lexer": "ipython2",
   "version": "2.7.6"
  }
 },
 "nbformat": 4,
 "nbformat_minor": 0
}
