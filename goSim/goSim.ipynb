{
 "cells": [
  {
   "cell_type": "code",
   "execution_count": 1,
   "metadata": {
    "collapsed": true,
    "ExecuteTime": {
     "end_time": "2023-05-06T15:30:18.007331Z",
     "start_time": "2023-05-06T15:30:17.959936Z"
    }
   },
   "outputs": [
    {
     "data": {
      "text/plain": "{'version': 1.0,\n 'p0': 'toru',\n 'p1': 'ゆー',\n 'p2': '黒崎',\n 'p3': 'kiriekouki',\n 'log': [{'hand': {'p0': 'しししし玉金香馬',\n    'p1': 'し王金銀銀香馬馬',\n    'p2': 'しししし角金銀香',\n    'p3': 'し角金銀飛飛香馬'},\n   'uchidashi': 2,\n   'score': [0, 0],\n   'game': [['2', 'し', '角'],\n    ['3', '角', '飛'],\n    ['3', '馬', '飛'],\n    ['3', 'し', '金'],\n    ['0', '金', 'し'],\n    ['0', 'し', 'し'],\n    ['1', 'し', '銀'],\n    ['2', '銀', 'し'],\n    ['2', 'し', 'し'],\n    ['2', '香', '金']]},\n  {'hand': {'p0': 'しししし角金香馬',\n    'p1': 'し玉金金銀銀銀飛',\n    'p2': 'しししし王角銀馬',\n    'p3': 'し金飛香香香馬馬'},\n   'uchidashi': 2,\n   'score': [30, 0],\n   'game': [['2', 'し', 'し'],\n    ['3', 'し', '香'],\n    ['3', '馬', '香'],\n    ['0', '香', 'し'],\n    ['2', 'し', '角'],\n    ['2', 'し', '馬'],\n    ['3', '馬', '香'],\n    ['3', '金', '飛']]},\n  {'hand': {'p0': 'し玉金金銀飛香香',\n    'p1': 'ししし角金銀銀馬',\n    'p2': 'ししし王角飛香馬',\n    'p3': 'ししし金銀香馬馬'},\n   'uchidashi': 3,\n   'score': [30, 40],\n   'game': [['3', 'し', '馬'],\n    ['2', '馬', '飛'],\n    ['2', 'し', '角'],\n    ['1', '角', '馬'],\n    ['1', 'し', '銀'],\n    ['2', '王', 'し'],\n    ['3', 'し', '銀'],\n    ['0', '銀', '香'],\n    ['2', '香', 'し']]},\n  {'hand': {'p0': 'しし金金銀飛香馬',\n    'p1': 'し王角金金飛香馬',\n    'p2': 'しししし玉銀銀銀',\n    'p3': 'ししし角香香馬馬'},\n   'uchidashi': 2,\n   'score': [40, 40],\n   'game': [['2', 'し', '銀'],\n    ['2', 'し', '銀'],\n    ['1', '王', '金'],\n    ['0', '金', '銀'],\n    ['0', 'し', '飛'],\n    ['1', '飛', '金'],\n    ['2', '王', '銀'],\n    ['2', 'し', 'し']]},\n  {'hand': {'p0': 'し玉角銀飛香香馬',\n    'p1': 'しし王金金銀飛馬',\n    'p2': 'しししし金銀銀香',\n    'p3': 'ししし角金香馬馬'},\n   'uchidashi': 2,\n   'score': [60, 40],\n   'game': [['2', 'し', '銀'],\n    ['1', '銀', '金'],\n    ['1', 'し', '金'],\n    ['2', '金', 'し'],\n    ['3', 'し', '馬'],\n    ['0', '馬', '銀'],\n    ['0', 'し', '香'],\n    ['3', '香', '金'],\n    ['0', '王', '香'],\n    ['0', '角', '飛']]},\n  {'hand': {'p0': 'ししし角金銀銀馬',\n    'p1': 'し玉角金飛飛香香',\n    'p2': 'ししし王金銀香馬',\n    'p3': 'ししし金銀香馬馬'},\n   'uchidashi': 0,\n   'score': [100, 40],\n   'game': [['0', 'し', '銀'],\n    ['3', '銀', '馬'],\n    ['2', '馬', '銀'],\n    ['2', 'し', 'し'],\n    ['3', 'し', '馬'],\n    ['0', '馬', '銀'],\n    ['1', '王', '飛'],\n    ['1', '香', '飛'],\n    ['1', 'し', '香'],\n    ['2', '香', '金'],\n    ['3', '金', '香'],\n    ['3', 'し', 'し']]},\n  {'hand': {'p0': 'し角金金金銀香香',\n    'p1': 'しししし玉銀香馬',\n    'p2': 'しし王角銀飛飛馬',\n    'p3': 'ししし金銀香馬馬'},\n   'uchidashi': 3,\n   'score': [100, 60],\n   'game': [['3', 'し', '馬'],\n    ['2', '馬', '飛'],\n    ['2', 'し', '飛'],\n    ['1', '王', '馬'],\n    ['1', 'し', 'し'],\n    ['2', 'し', '角'],\n    ['2', '銀', '王']]}]}"
     },
     "execution_count": 1,
     "metadata": {},
     "output_type": "execute_result"
    }
   ],
   "source": [
    "import yaml\n",
    "\n",
    "with open(\"../data/goita_kifu_2023-3-21-21-24-33.yaml\") as f:\n",
    "    data = yaml.safe_load(f)\n",
    "data"
   ]
  },
  {
   "cell_type": "code",
   "execution_count": 2,
   "outputs": [
    {
     "data": {
      "text/plain": "{'hand': {'p0': 'しししし玉金香馬',\n  'p1': 'し王金銀銀香馬馬',\n  'p2': 'しししし角金銀香',\n  'p3': 'し角金銀飛飛香馬'},\n 'uchidashi': 2,\n 'score': [0, 0],\n 'game': [['2', 'し', '角'],\n  ['3', '角', '飛'],\n  ['3', '馬', '飛'],\n  ['3', 'し', '金'],\n  ['0', '金', 'し'],\n  ['0', 'し', 'し'],\n  ['1', 'し', '銀'],\n  ['2', '銀', 'し'],\n  ['2', 'し', 'し'],\n  ['2', '香', '金']]}"
     },
     "execution_count": 2,
     "metadata": {},
     "output_type": "execute_result"
    }
   ],
   "source": [
    "log1 = data[\"log\"][0]\n",
    "log1"
   ],
   "metadata": {
    "collapsed": false,
    "ExecuteTime": {
     "end_time": "2023-05-06T15:30:18.011834Z",
     "start_time": "2023-05-06T15:30:18.009510Z"
    }
   }
  },
  {
   "cell_type": "code",
   "execution_count": 3,
   "outputs": [],
   "source": [
    "import importlib\n",
    "import pyGoita.Handset as hs"
   ],
   "metadata": {
    "collapsed": false,
    "ExecuteTime": {
     "end_time": "2023-05-06T15:30:18.015650Z",
     "start_time": "2023-05-06T15:30:18.012554Z"
    }
   }
  },
  {
   "cell_type": "code",
   "execution_count": null,
   "outputs": [],
   "source": [],
   "metadata": {
    "collapsed": false
   }
  },
  {
   "cell_type": "code",
   "execution_count": 4,
   "outputs": [
    {
     "data": {
      "text/plain": "<module 'pyGoita.Handset' from '/Users/gotoudaisuke/PycharmProjects/SUGoI/pyGoita/Handset.py'>"
     },
     "execution_count": 4,
     "metadata": {},
     "output_type": "execute_result"
    }
   ],
   "source": [
    "importlib.reload(hs)"
   ],
   "metadata": {
    "collapsed": false,
    "ExecuteTime": {
     "end_time": "2023-05-06T15:17:21.591395Z",
     "start_time": "2023-05-06T15:17:21.588229Z"
    }
   }
  },
  {
   "cell_type": "code",
   "execution_count": 4,
   "outputs": [],
   "source": [
    "import pyGoita.Koma as km\n",
    "from collections import Counter\n",
    "\n",
    "def convert_hands(dict_hands):\n",
    "    handsets = []\n",
    "    for string in dict_hands.values():\n",
    "        koma_reps = []\n",
    "        for s in string:\n",
    "            koma_reps.append(km.Koma.from_str(s).name)\n",
    "        print(koma_reps)\n",
    "        komas = dict(Counter(koma_reps))\n",
    "        print(komas)\n",
    "        handsets.append(hs.Handset(**komas))\n",
    "    return handsets\n"
   ],
   "metadata": {
    "collapsed": false,
    "ExecuteTime": {
     "end_time": "2023-05-06T15:30:18.019396Z",
     "start_time": "2023-05-06T15:30:18.017334Z"
    }
   }
  },
  {
   "cell_type": "code",
   "execution_count": 6,
   "outputs": [
    {
     "name": "stdout",
     "output_type": "stream",
     "text": [
      "['SHI', 'SHI', 'SHI', 'SHI', 'GYK', 'KIN', 'GON', 'UMA']\n",
      "{'SHI': 4, 'GYK': 1, 'KIN': 1, 'GON': 1, 'UMA': 1}\n",
      "['SHI', 'GYK', 'KIN', 'GIN', 'GIN', 'GON', 'UMA', 'UMA']\n",
      "{'SHI': 1, 'GYK': 1, 'KIN': 1, 'GIN': 2, 'GON': 1, 'UMA': 2}\n",
      "['SHI', 'SHI', 'SHI', 'SHI', 'KAK', 'KIN', 'GIN', 'GON']\n",
      "{'SHI': 4, 'KAK': 1, 'KIN': 1, 'GIN': 1, 'GON': 1}\n",
      "['SHI', 'KAK', 'KIN', 'GIN', 'HSY', 'HSY', 'GON', 'UMA']\n",
      "{'SHI': 1, 'KAK': 1, 'KIN': 1, 'GIN': 1, 'HSY': 2, 'GON': 1, 'UMA': 1}\n"
     ]
    },
    {
     "data": {
      "text/plain": "[<pyGoita.Handset.Handset at 0x105e222e0>,\n <pyGoita.Handset.Handset at 0x105e22fd0>,\n <pyGoita.Handset.Handset at 0x105e22af0>,\n <pyGoita.Handset.Handset at 0x105e22f70>]"
     },
     "execution_count": 6,
     "metadata": {},
     "output_type": "execute_result"
    }
   ],
   "source": [
    "convert_hands(log1[\"hand\"])"
   ],
   "metadata": {
    "collapsed": false,
    "ExecuteTime": {
     "end_time": "2023-05-06T12:23:51.611744Z",
     "start_time": "2023-05-06T12:23:51.594638Z"
    }
   }
  },
  {
   "cell_type": "code",
   "execution_count": 5,
   "outputs": [
    {
     "name": "stdout",
     "output_type": "stream",
     "text": [
      "['SHI', 'SHI', 'SHI', 'SHI', 'GYK', 'KIN', 'GON', 'UMA']\n",
      "{'SHI': 4, 'GYK': 1, 'KIN': 1, 'GON': 1, 'UMA': 1}\n",
      "['SHI', 'GYK', 'KIN', 'GIN', 'GIN', 'GON', 'UMA', 'UMA']\n",
      "{'SHI': 1, 'GYK': 1, 'KIN': 1, 'GIN': 2, 'GON': 1, 'UMA': 2}\n",
      "['SHI', 'SHI', 'SHI', 'SHI', 'KAK', 'KIN', 'GIN', 'GON']\n",
      "{'SHI': 4, 'KAK': 1, 'KIN': 1, 'GIN': 1, 'GON': 1}\n",
      "['SHI', 'KAK', 'KIN', 'GIN', 'HSY', 'HSY', 'GON', 'UMA']\n",
      "{'SHI': 1, 'KAK': 1, 'KIN': 1, 'GIN': 1, 'HSY': 2, 'GON': 1, 'UMA': 1}\n"
     ]
    },
    {
     "data": {
      "text/plain": "[{'played_player': -1,\n  'behavior': -1,\n  'hands': [{<Koma.NONE: 0>: 0,\n    <Koma.SHI: 1>: 1,\n    <Koma.GON: 2>: 1,\n    <Koma.UMA: 3>: 1,\n    <Koma.KIN: 4>: 0,\n    <Koma.GIN: 5>: 0,\n    <Koma.KAK: 6>: 0,\n    <Koma.HSY: 7>: 0,\n    <Koma.GYK: 8>: 1},\n   {<Koma.NONE: 0>: 0,\n    <Koma.SHI: 1>: 0,\n    <Koma.GON: 2>: 1,\n    <Koma.UMA: 3>: 2,\n    <Koma.KIN: 4>: 1,\n    <Koma.GIN: 5>: 1,\n    <Koma.KAK: 6>: 0,\n    <Koma.HSY: 7>: 0,\n    <Koma.GYK: 8>: 1},\n   {<Koma.NONE: 0>: 0,\n    <Koma.SHI: 1>: 0,\n    <Koma.GON: 2>: 0,\n    <Koma.UMA: 3>: 0,\n    <Koma.KIN: 4>: 0,\n    <Koma.GIN: 5>: 0,\n    <Koma.KAK: 6>: 0,\n    <Koma.HSY: 7>: 0,\n    <Koma.GYK: 8>: 0},\n   {<Koma.NONE: 0>: 0,\n    <Koma.SHI: 1>: 0,\n    <Koma.GON: 2>: 1,\n    <Koma.UMA: 3>: 0,\n    <Koma.KIN: 4>: 0,\n    <Koma.GIN: 5>: 1,\n    <Koma.KAK: 6>: 0,\n    <Koma.HSY: 7>: 0,\n    <Koma.GYK: 8>: 0}],\n  'board': [[[['NONE', False], ['NONE', False]],\n    [['NONE', False], ['NONE', False]],\n    [['NONE', False], ['NONE', False]],\n    [['NONE', False], ['NONE', False]]],\n   [[['NONE', False], ['NONE', False]],\n    [['NONE', False], ['NONE', False]],\n    [['NONE', False], ['NONE', False]],\n    [['NONE', False], ['NONE', False]]],\n   [[['NONE', False], ['NONE', False]],\n    [['NONE', False], ['NONE', False]],\n    [['NONE', False], ['NONE', False]],\n    [['NONE', False], ['NONE', False]]],\n   [[['NONE', False], ['NONE', False]],\n    [['NONE', False], ['NONE', False]],\n    [['NONE', False], ['NONE', False]],\n    [['NONE', False], ['NONE', False]]]]},\n {'played_player': 2,\n  'behavior': 6,\n  'hands': [{<Koma.NONE: 0>: 0,\n    <Koma.SHI: 1>: 4,\n    <Koma.GON: 2>: 1,\n    <Koma.UMA: 3>: 1,\n    <Koma.KIN: 4>: 1,\n    <Koma.GIN: 5>: 0,\n    <Koma.KAK: 6>: 0,\n    <Koma.HSY: 7>: 0,\n    <Koma.GYK: 8>: 1},\n   {<Koma.NONE: 0>: 0,\n    <Koma.SHI: 1>: 1,\n    <Koma.GON: 2>: 1,\n    <Koma.UMA: 3>: 2,\n    <Koma.KIN: 4>: 1,\n    <Koma.GIN: 5>: 2,\n    <Koma.KAK: 6>: 0,\n    <Koma.HSY: 7>: 0,\n    <Koma.GYK: 8>: 1},\n   {<Koma.NONE: 0>: 0,\n    <Koma.SHI: 1>: 3,\n    <Koma.GON: 2>: 1,\n    <Koma.UMA: 3>: 0,\n    <Koma.KIN: 4>: 1,\n    <Koma.GIN: 5>: 1,\n    <Koma.KAK: 6>: 0,\n    <Koma.HSY: 7>: 0,\n    <Koma.GYK: 8>: 0},\n   {<Koma.NONE: 0>: 0,\n    <Koma.SHI: 1>: 1,\n    <Koma.GON: 2>: 1,\n    <Koma.UMA: 3>: 1,\n    <Koma.KIN: 4>: 1,\n    <Koma.GIN: 5>: 1,\n    <Koma.KAK: 6>: 1,\n    <Koma.HSY: 7>: 2,\n    <Koma.GYK: 8>: 0}],\n  'board': [[[['NONE', False], ['NONE', False]],\n    [['NONE', False], ['NONE', False]],\n    [['NONE', False], ['NONE', False]],\n    [['NONE', False], ['NONE', False]]],\n   [[['NONE', False], ['NONE', False]],\n    [['NONE', False], ['NONE', False]],\n    [['NONE', False], ['NONE', False]],\n    [['NONE', False], ['NONE', False]]],\n   [[['SHI', True], ['KAK', False]],\n    [['NONE', False], ['NONE', False]],\n    [['NONE', False], ['NONE', False]],\n    [['NONE', False], ['NONE', False]]],\n   [[['NONE', False], ['NONE', False]],\n    [['NONE', False], ['NONE', False]],\n    [['NONE', False], ['NONE', False]],\n    [['NONE', False], ['NONE', False]]]]},\n {'played_player': 3,\n  'behavior': 7,\n  'hands': [{<Koma.NONE: 0>: 0,\n    <Koma.SHI: 1>: 4,\n    <Koma.GON: 2>: 1,\n    <Koma.UMA: 3>: 1,\n    <Koma.KIN: 4>: 1,\n    <Koma.GIN: 5>: 0,\n    <Koma.KAK: 6>: 0,\n    <Koma.HSY: 7>: 0,\n    <Koma.GYK: 8>: 1},\n   {<Koma.NONE: 0>: 0,\n    <Koma.SHI: 1>: 1,\n    <Koma.GON: 2>: 1,\n    <Koma.UMA: 3>: 2,\n    <Koma.KIN: 4>: 1,\n    <Koma.GIN: 5>: 2,\n    <Koma.KAK: 6>: 0,\n    <Koma.HSY: 7>: 0,\n    <Koma.GYK: 8>: 1},\n   {<Koma.NONE: 0>: 0,\n    <Koma.SHI: 1>: 3,\n    <Koma.GON: 2>: 1,\n    <Koma.UMA: 3>: 0,\n    <Koma.KIN: 4>: 1,\n    <Koma.GIN: 5>: 1,\n    <Koma.KAK: 6>: 0,\n    <Koma.HSY: 7>: 0,\n    <Koma.GYK: 8>: 0},\n   {<Koma.NONE: 0>: 0,\n    <Koma.SHI: 1>: 1,\n    <Koma.GON: 2>: 1,\n    <Koma.UMA: 3>: 1,\n    <Koma.KIN: 4>: 1,\n    <Koma.GIN: 5>: 1,\n    <Koma.KAK: 6>: 0,\n    <Koma.HSY: 7>: 1,\n    <Koma.GYK: 8>: 0}],\n  'board': [[[['NONE', False], ['NONE', False]],\n    [['NONE', False], ['NONE', False]],\n    [['NONE', False], ['NONE', False]],\n    [['NONE', False], ['NONE', False]]],\n   [[['NONE', False], ['NONE', False]],\n    [['NONE', False], ['NONE', False]],\n    [['NONE', False], ['NONE', False]],\n    [['NONE', False], ['NONE', False]]],\n   [[['SHI', True], ['KAK', False]],\n    [['NONE', False], ['NONE', False]],\n    [['NONE', False], ['NONE', False]],\n    [['NONE', False], ['NONE', False]]],\n   [[['KAK', False], ['HSY', False]],\n    [['NONE', False], ['NONE', False]],\n    [['NONE', False], ['NONE', False]],\n    [['NONE', False], ['NONE', False]]]]},\n {'played_player': 0,\n  'behavior': -1,\n  'hands': [{<Koma.NONE: 0>: 0,\n    <Koma.SHI: 1>: 4,\n    <Koma.GON: 2>: 1,\n    <Koma.UMA: 3>: 1,\n    <Koma.KIN: 4>: 1,\n    <Koma.GIN: 5>: 0,\n    <Koma.KAK: 6>: 0,\n    <Koma.HSY: 7>: 0,\n    <Koma.GYK: 8>: 1},\n   {<Koma.NONE: 0>: 0,\n    <Koma.SHI: 1>: 1,\n    <Koma.GON: 2>: 1,\n    <Koma.UMA: 3>: 2,\n    <Koma.KIN: 4>: 1,\n    <Koma.GIN: 5>: 2,\n    <Koma.KAK: 6>: 0,\n    <Koma.HSY: 7>: 0,\n    <Koma.GYK: 8>: 1},\n   {<Koma.NONE: 0>: 0,\n    <Koma.SHI: 1>: 3,\n    <Koma.GON: 2>: 1,\n    <Koma.UMA: 3>: 0,\n    <Koma.KIN: 4>: 1,\n    <Koma.GIN: 5>: 1,\n    <Koma.KAK: 6>: 0,\n    <Koma.HSY: 7>: 0,\n    <Koma.GYK: 8>: 0},\n   {<Koma.NONE: 0>: 0,\n    <Koma.SHI: 1>: 1,\n    <Koma.GON: 2>: 1,\n    <Koma.UMA: 3>: 1,\n    <Koma.KIN: 4>: 1,\n    <Koma.GIN: 5>: 1,\n    <Koma.KAK: 6>: 0,\n    <Koma.HSY: 7>: 1,\n    <Koma.GYK: 8>: 0}],\n  'board': [[[['NONE', False], ['NONE', False]],\n    [['NONE', False], ['NONE', False]],\n    [['NONE', False], ['NONE', False]],\n    [['NONE', False], ['NONE', False]]],\n   [[['NONE', False], ['NONE', False]],\n    [['NONE', False], ['NONE', False]],\n    [['NONE', False], ['NONE', False]],\n    [['NONE', False], ['NONE', False]]],\n   [[['SHI', True], ['KAK', False]],\n    [['NONE', False], ['NONE', False]],\n    [['NONE', False], ['NONE', False]],\n    [['NONE', False], ['NONE', False]]],\n   [[['KAK', False], ['HSY', False]],\n    [['NONE', False], ['NONE', False]],\n    [['NONE', False], ['NONE', False]],\n    [['NONE', False], ['NONE', False]]]]},\n {'played_player': 1,\n  'behavior': -1,\n  'hands': [{<Koma.NONE: 0>: 0,\n    <Koma.SHI: 1>: 4,\n    <Koma.GON: 2>: 1,\n    <Koma.UMA: 3>: 1,\n    <Koma.KIN: 4>: 1,\n    <Koma.GIN: 5>: 0,\n    <Koma.KAK: 6>: 0,\n    <Koma.HSY: 7>: 0,\n    <Koma.GYK: 8>: 1},\n   {<Koma.NONE: 0>: 0,\n    <Koma.SHI: 1>: 1,\n    <Koma.GON: 2>: 1,\n    <Koma.UMA: 3>: 2,\n    <Koma.KIN: 4>: 1,\n    <Koma.GIN: 5>: 2,\n    <Koma.KAK: 6>: 0,\n    <Koma.HSY: 7>: 0,\n    <Koma.GYK: 8>: 1},\n   {<Koma.NONE: 0>: 0,\n    <Koma.SHI: 1>: 3,\n    <Koma.GON: 2>: 1,\n    <Koma.UMA: 3>: 0,\n    <Koma.KIN: 4>: 1,\n    <Koma.GIN: 5>: 1,\n    <Koma.KAK: 6>: 0,\n    <Koma.HSY: 7>: 0,\n    <Koma.GYK: 8>: 0},\n   {<Koma.NONE: 0>: 0,\n    <Koma.SHI: 1>: 1,\n    <Koma.GON: 2>: 1,\n    <Koma.UMA: 3>: 1,\n    <Koma.KIN: 4>: 1,\n    <Koma.GIN: 5>: 1,\n    <Koma.KAK: 6>: 0,\n    <Koma.HSY: 7>: 1,\n    <Koma.GYK: 8>: 0}],\n  'board': [[[['NONE', False], ['NONE', False]],\n    [['NONE', False], ['NONE', False]],\n    [['NONE', False], ['NONE', False]],\n    [['NONE', False], ['NONE', False]]],\n   [[['NONE', False], ['NONE', False]],\n    [['NONE', False], ['NONE', False]],\n    [['NONE', False], ['NONE', False]],\n    [['NONE', False], ['NONE', False]]],\n   [[['SHI', True], ['KAK', False]],\n    [['NONE', False], ['NONE', False]],\n    [['NONE', False], ['NONE', False]],\n    [['NONE', False], ['NONE', False]]],\n   [[['KAK', False], ['HSY', False]],\n    [['NONE', False], ['NONE', False]],\n    [['NONE', False], ['NONE', False]],\n    [['NONE', False], ['NONE', False]]]]},\n {'played_player': 2,\n  'behavior': -1,\n  'hands': [{<Koma.NONE: 0>: 0,\n    <Koma.SHI: 1>: 4,\n    <Koma.GON: 2>: 1,\n    <Koma.UMA: 3>: 1,\n    <Koma.KIN: 4>: 1,\n    <Koma.GIN: 5>: 0,\n    <Koma.KAK: 6>: 0,\n    <Koma.HSY: 7>: 0,\n    <Koma.GYK: 8>: 1},\n   {<Koma.NONE: 0>: 0,\n    <Koma.SHI: 1>: 1,\n    <Koma.GON: 2>: 1,\n    <Koma.UMA: 3>: 2,\n    <Koma.KIN: 4>: 1,\n    <Koma.GIN: 5>: 2,\n    <Koma.KAK: 6>: 0,\n    <Koma.HSY: 7>: 0,\n    <Koma.GYK: 8>: 1},\n   {<Koma.NONE: 0>: 0,\n    <Koma.SHI: 1>: 3,\n    <Koma.GON: 2>: 1,\n    <Koma.UMA: 3>: 0,\n    <Koma.KIN: 4>: 1,\n    <Koma.GIN: 5>: 1,\n    <Koma.KAK: 6>: 0,\n    <Koma.HSY: 7>: 0,\n    <Koma.GYK: 8>: 0},\n   {<Koma.NONE: 0>: 0,\n    <Koma.SHI: 1>: 1,\n    <Koma.GON: 2>: 1,\n    <Koma.UMA: 3>: 1,\n    <Koma.KIN: 4>: 1,\n    <Koma.GIN: 5>: 1,\n    <Koma.KAK: 6>: 0,\n    <Koma.HSY: 7>: 1,\n    <Koma.GYK: 8>: 0}],\n  'board': [[[['NONE', False], ['NONE', False]],\n    [['NONE', False], ['NONE', False]],\n    [['NONE', False], ['NONE', False]],\n    [['NONE', False], ['NONE', False]]],\n   [[['NONE', False], ['NONE', False]],\n    [['NONE', False], ['NONE', False]],\n    [['NONE', False], ['NONE', False]],\n    [['NONE', False], ['NONE', False]]],\n   [[['SHI', True], ['KAK', False]],\n    [['NONE', False], ['NONE', False]],\n    [['NONE', False], ['NONE', False]],\n    [['NONE', False], ['NONE', False]]],\n   [[['KAK', False], ['HSY', False]],\n    [['NONE', False], ['NONE', False]],\n    [['NONE', False], ['NONE', False]],\n    [['NONE', False], ['NONE', False]]]]},\n {'played_player': 3,\n  'behavior': 7,\n  'hands': [{<Koma.NONE: 0>: 0,\n    <Koma.SHI: 1>: 4,\n    <Koma.GON: 2>: 1,\n    <Koma.UMA: 3>: 1,\n    <Koma.KIN: 4>: 1,\n    <Koma.GIN: 5>: 0,\n    <Koma.KAK: 6>: 0,\n    <Koma.HSY: 7>: 0,\n    <Koma.GYK: 8>: 1},\n   {<Koma.NONE: 0>: 0,\n    <Koma.SHI: 1>: 1,\n    <Koma.GON: 2>: 1,\n    <Koma.UMA: 3>: 2,\n    <Koma.KIN: 4>: 1,\n    <Koma.GIN: 5>: 2,\n    <Koma.KAK: 6>: 0,\n    <Koma.HSY: 7>: 0,\n    <Koma.GYK: 8>: 1},\n   {<Koma.NONE: 0>: 0,\n    <Koma.SHI: 1>: 3,\n    <Koma.GON: 2>: 1,\n    <Koma.UMA: 3>: 0,\n    <Koma.KIN: 4>: 1,\n    <Koma.GIN: 5>: 1,\n    <Koma.KAK: 6>: 0,\n    <Koma.HSY: 7>: 0,\n    <Koma.GYK: 8>: 0},\n   {<Koma.NONE: 0>: 0,\n    <Koma.SHI: 1>: 1,\n    <Koma.GON: 2>: 1,\n    <Koma.UMA: 3>: 0,\n    <Koma.KIN: 4>: 1,\n    <Koma.GIN: 5>: 1,\n    <Koma.KAK: 6>: 0,\n    <Koma.HSY: 7>: 0,\n    <Koma.GYK: 8>: 0}],\n  'board': [[[['NONE', False], ['NONE', False]],\n    [['NONE', False], ['NONE', False]],\n    [['NONE', False], ['NONE', False]],\n    [['NONE', False], ['NONE', False]]],\n   [[['NONE', False], ['NONE', False]],\n    [['NONE', False], ['NONE', False]],\n    [['NONE', False], ['NONE', False]],\n    [['NONE', False], ['NONE', False]]],\n   [[['SHI', True], ['KAK', False]],\n    [['NONE', False], ['NONE', False]],\n    [['NONE', False], ['NONE', False]],\n    [['NONE', False], ['NONE', False]]],\n   [[['KAK', False], ['HSY', False]],\n    [['UMA', True], ['HSY', False]],\n    [['NONE', False], ['NONE', False]],\n    [['NONE', False], ['NONE', False]]]]},\n {'played_player': 0,\n  'behavior': -1,\n  'hands': [{<Koma.NONE: 0>: 0,\n    <Koma.SHI: 1>: 4,\n    <Koma.GON: 2>: 1,\n    <Koma.UMA: 3>: 1,\n    <Koma.KIN: 4>: 1,\n    <Koma.GIN: 5>: 0,\n    <Koma.KAK: 6>: 0,\n    <Koma.HSY: 7>: 0,\n    <Koma.GYK: 8>: 1},\n   {<Koma.NONE: 0>: 0,\n    <Koma.SHI: 1>: 1,\n    <Koma.GON: 2>: 1,\n    <Koma.UMA: 3>: 2,\n    <Koma.KIN: 4>: 1,\n    <Koma.GIN: 5>: 2,\n    <Koma.KAK: 6>: 0,\n    <Koma.HSY: 7>: 0,\n    <Koma.GYK: 8>: 1},\n   {<Koma.NONE: 0>: 0,\n    <Koma.SHI: 1>: 3,\n    <Koma.GON: 2>: 1,\n    <Koma.UMA: 3>: 0,\n    <Koma.KIN: 4>: 1,\n    <Koma.GIN: 5>: 1,\n    <Koma.KAK: 6>: 0,\n    <Koma.HSY: 7>: 0,\n    <Koma.GYK: 8>: 0},\n   {<Koma.NONE: 0>: 0,\n    <Koma.SHI: 1>: 1,\n    <Koma.GON: 2>: 1,\n    <Koma.UMA: 3>: 0,\n    <Koma.KIN: 4>: 1,\n    <Koma.GIN: 5>: 1,\n    <Koma.KAK: 6>: 0,\n    <Koma.HSY: 7>: 0,\n    <Koma.GYK: 8>: 0}],\n  'board': [[[['NONE', False], ['NONE', False]],\n    [['NONE', False], ['NONE', False]],\n    [['NONE', False], ['NONE', False]],\n    [['NONE', False], ['NONE', False]]],\n   [[['NONE', False], ['NONE', False]],\n    [['NONE', False], ['NONE', False]],\n    [['NONE', False], ['NONE', False]],\n    [['NONE', False], ['NONE', False]]],\n   [[['SHI', True], ['KAK', False]],\n    [['NONE', False], ['NONE', False]],\n    [['NONE', False], ['NONE', False]],\n    [['NONE', False], ['NONE', False]]],\n   [[['KAK', False], ['HSY', False]],\n    [['UMA', True], ['HSY', False]],\n    [['NONE', False], ['NONE', False]],\n    [['NONE', False], ['NONE', False]]]]},\n {'played_player': 1,\n  'behavior': -1,\n  'hands': [{<Koma.NONE: 0>: 0,\n    <Koma.SHI: 1>: 4,\n    <Koma.GON: 2>: 1,\n    <Koma.UMA: 3>: 1,\n    <Koma.KIN: 4>: 1,\n    <Koma.GIN: 5>: 0,\n    <Koma.KAK: 6>: 0,\n    <Koma.HSY: 7>: 0,\n    <Koma.GYK: 8>: 1},\n   {<Koma.NONE: 0>: 0,\n    <Koma.SHI: 1>: 1,\n    <Koma.GON: 2>: 1,\n    <Koma.UMA: 3>: 2,\n    <Koma.KIN: 4>: 1,\n    <Koma.GIN: 5>: 2,\n    <Koma.KAK: 6>: 0,\n    <Koma.HSY: 7>: 0,\n    <Koma.GYK: 8>: 1},\n   {<Koma.NONE: 0>: 0,\n    <Koma.SHI: 1>: 3,\n    <Koma.GON: 2>: 1,\n    <Koma.UMA: 3>: 0,\n    <Koma.KIN: 4>: 1,\n    <Koma.GIN: 5>: 1,\n    <Koma.KAK: 6>: 0,\n    <Koma.HSY: 7>: 0,\n    <Koma.GYK: 8>: 0},\n   {<Koma.NONE: 0>: 0,\n    <Koma.SHI: 1>: 1,\n    <Koma.GON: 2>: 1,\n    <Koma.UMA: 3>: 0,\n    <Koma.KIN: 4>: 1,\n    <Koma.GIN: 5>: 1,\n    <Koma.KAK: 6>: 0,\n    <Koma.HSY: 7>: 0,\n    <Koma.GYK: 8>: 0}],\n  'board': [[[['NONE', False], ['NONE', False]],\n    [['NONE', False], ['NONE', False]],\n    [['NONE', False], ['NONE', False]],\n    [['NONE', False], ['NONE', False]]],\n   [[['NONE', False], ['NONE', False]],\n    [['NONE', False], ['NONE', False]],\n    [['NONE', False], ['NONE', False]],\n    [['NONE', False], ['NONE', False]]],\n   [[['SHI', True], ['KAK', False]],\n    [['NONE', False], ['NONE', False]],\n    [['NONE', False], ['NONE', False]],\n    [['NONE', False], ['NONE', False]]],\n   [[['KAK', False], ['HSY', False]],\n    [['UMA', True], ['HSY', False]],\n    [['NONE', False], ['NONE', False]],\n    [['NONE', False], ['NONE', False]]]]},\n {'played_player': 2,\n  'behavior': -1,\n  'hands': [{<Koma.NONE: 0>: 0,\n    <Koma.SHI: 1>: 4,\n    <Koma.GON: 2>: 1,\n    <Koma.UMA: 3>: 1,\n    <Koma.KIN: 4>: 1,\n    <Koma.GIN: 5>: 0,\n    <Koma.KAK: 6>: 0,\n    <Koma.HSY: 7>: 0,\n    <Koma.GYK: 8>: 1},\n   {<Koma.NONE: 0>: 0,\n    <Koma.SHI: 1>: 1,\n    <Koma.GON: 2>: 1,\n    <Koma.UMA: 3>: 2,\n    <Koma.KIN: 4>: 1,\n    <Koma.GIN: 5>: 2,\n    <Koma.KAK: 6>: 0,\n    <Koma.HSY: 7>: 0,\n    <Koma.GYK: 8>: 1},\n   {<Koma.NONE: 0>: 0,\n    <Koma.SHI: 1>: 3,\n    <Koma.GON: 2>: 1,\n    <Koma.UMA: 3>: 0,\n    <Koma.KIN: 4>: 1,\n    <Koma.GIN: 5>: 1,\n    <Koma.KAK: 6>: 0,\n    <Koma.HSY: 7>: 0,\n    <Koma.GYK: 8>: 0},\n   {<Koma.NONE: 0>: 0,\n    <Koma.SHI: 1>: 1,\n    <Koma.GON: 2>: 1,\n    <Koma.UMA: 3>: 0,\n    <Koma.KIN: 4>: 1,\n    <Koma.GIN: 5>: 1,\n    <Koma.KAK: 6>: 0,\n    <Koma.HSY: 7>: 0,\n    <Koma.GYK: 8>: 0}],\n  'board': [[[['NONE', False], ['NONE', False]],\n    [['NONE', False], ['NONE', False]],\n    [['NONE', False], ['NONE', False]],\n    [['NONE', False], ['NONE', False]]],\n   [[['NONE', False], ['NONE', False]],\n    [['NONE', False], ['NONE', False]],\n    [['NONE', False], ['NONE', False]],\n    [['NONE', False], ['NONE', False]]],\n   [[['SHI', True], ['KAK', False]],\n    [['NONE', False], ['NONE', False]],\n    [['NONE', False], ['NONE', False]],\n    [['NONE', False], ['NONE', False]]],\n   [[['KAK', False], ['HSY', False]],\n    [['UMA', True], ['HSY', False]],\n    [['NONE', False], ['NONE', False]],\n    [['NONE', False], ['NONE', False]]]]},\n {'played_player': 3,\n  'behavior': 4,\n  'hands': [{<Koma.NONE: 0>: 0,\n    <Koma.SHI: 1>: 4,\n    <Koma.GON: 2>: 1,\n    <Koma.UMA: 3>: 1,\n    <Koma.KIN: 4>: 1,\n    <Koma.GIN: 5>: 0,\n    <Koma.KAK: 6>: 0,\n    <Koma.HSY: 7>: 0,\n    <Koma.GYK: 8>: 1},\n   {<Koma.NONE: 0>: 0,\n    <Koma.SHI: 1>: 1,\n    <Koma.GON: 2>: 1,\n    <Koma.UMA: 3>: 2,\n    <Koma.KIN: 4>: 1,\n    <Koma.GIN: 5>: 2,\n    <Koma.KAK: 6>: 0,\n    <Koma.HSY: 7>: 0,\n    <Koma.GYK: 8>: 1},\n   {<Koma.NONE: 0>: 0,\n    <Koma.SHI: 1>: 3,\n    <Koma.GON: 2>: 1,\n    <Koma.UMA: 3>: 0,\n    <Koma.KIN: 4>: 1,\n    <Koma.GIN: 5>: 1,\n    <Koma.KAK: 6>: 0,\n    <Koma.HSY: 7>: 0,\n    <Koma.GYK: 8>: 0},\n   {<Koma.NONE: 0>: 0,\n    <Koma.SHI: 1>: 0,\n    <Koma.GON: 2>: 1,\n    <Koma.UMA: 3>: 0,\n    <Koma.KIN: 4>: 0,\n    <Koma.GIN: 5>: 1,\n    <Koma.KAK: 6>: 0,\n    <Koma.HSY: 7>: 0,\n    <Koma.GYK: 8>: 0}],\n  'board': [[[['NONE', False], ['NONE', False]],\n    [['NONE', False], ['NONE', False]],\n    [['NONE', False], ['NONE', False]],\n    [['NONE', False], ['NONE', False]]],\n   [[['NONE', False], ['NONE', False]],\n    [['NONE', False], ['NONE', False]],\n    [['NONE', False], ['NONE', False]],\n    [['NONE', False], ['NONE', False]]],\n   [[['SHI', True], ['KAK', False]],\n    [['NONE', False], ['NONE', False]],\n    [['NONE', False], ['NONE', False]],\n    [['NONE', False], ['NONE', False]]],\n   [[['KAK', False], ['HSY', False]],\n    [['UMA', True], ['HSY', False]],\n    [['SHI', True], ['KIN', False]],\n    [['NONE', False], ['NONE', False]]]]},\n {'played_player': 0,\n  'behavior': 1,\n  'hands': [{<Koma.NONE: 0>: 0,\n    <Koma.SHI: 1>: 3,\n    <Koma.GON: 2>: 1,\n    <Koma.UMA: 3>: 1,\n    <Koma.KIN: 4>: 0,\n    <Koma.GIN: 5>: 0,\n    <Koma.KAK: 6>: 0,\n    <Koma.HSY: 7>: 0,\n    <Koma.GYK: 8>: 1},\n   {<Koma.NONE: 0>: 0,\n    <Koma.SHI: 1>: 1,\n    <Koma.GON: 2>: 1,\n    <Koma.UMA: 3>: 2,\n    <Koma.KIN: 4>: 1,\n    <Koma.GIN: 5>: 2,\n    <Koma.KAK: 6>: 0,\n    <Koma.HSY: 7>: 0,\n    <Koma.GYK: 8>: 1},\n   {<Koma.NONE: 0>: 0,\n    <Koma.SHI: 1>: 3,\n    <Koma.GON: 2>: 1,\n    <Koma.UMA: 3>: 0,\n    <Koma.KIN: 4>: 1,\n    <Koma.GIN: 5>: 1,\n    <Koma.KAK: 6>: 0,\n    <Koma.HSY: 7>: 0,\n    <Koma.GYK: 8>: 0},\n   {<Koma.NONE: 0>: 0,\n    <Koma.SHI: 1>: 0,\n    <Koma.GON: 2>: 1,\n    <Koma.UMA: 3>: 0,\n    <Koma.KIN: 4>: 0,\n    <Koma.GIN: 5>: 1,\n    <Koma.KAK: 6>: 0,\n    <Koma.HSY: 7>: 0,\n    <Koma.GYK: 8>: 0}],\n  'board': [[[['KIN', False], ['SHI', False]],\n    [['NONE', False], ['NONE', False]],\n    [['NONE', False], ['NONE', False]],\n    [['NONE', False], ['NONE', False]]],\n   [[['NONE', False], ['NONE', False]],\n    [['NONE', False], ['NONE', False]],\n    [['NONE', False], ['NONE', False]],\n    [['NONE', False], ['NONE', False]]],\n   [[['SHI', True], ['KAK', False]],\n    [['NONE', False], ['NONE', False]],\n    [['NONE', False], ['NONE', False]],\n    [['NONE', False], ['NONE', False]]],\n   [[['KAK', False], ['HSY', False]],\n    [['UMA', True], ['HSY', False]],\n    [['SHI', True], ['KIN', False]],\n    [['NONE', False], ['NONE', False]]]]},\n {'played_player': 1,\n  'behavior': -1,\n  'hands': [{<Koma.NONE: 0>: 0,\n    <Koma.SHI: 1>: 3,\n    <Koma.GON: 2>: 1,\n    <Koma.UMA: 3>: 1,\n    <Koma.KIN: 4>: 0,\n    <Koma.GIN: 5>: 0,\n    <Koma.KAK: 6>: 0,\n    <Koma.HSY: 7>: 0,\n    <Koma.GYK: 8>: 1},\n   {<Koma.NONE: 0>: 0,\n    <Koma.SHI: 1>: 1,\n    <Koma.GON: 2>: 1,\n    <Koma.UMA: 3>: 2,\n    <Koma.KIN: 4>: 1,\n    <Koma.GIN: 5>: 2,\n    <Koma.KAK: 6>: 0,\n    <Koma.HSY: 7>: 0,\n    <Koma.GYK: 8>: 1},\n   {<Koma.NONE: 0>: 0,\n    <Koma.SHI: 1>: 3,\n    <Koma.GON: 2>: 1,\n    <Koma.UMA: 3>: 0,\n    <Koma.KIN: 4>: 1,\n    <Koma.GIN: 5>: 1,\n    <Koma.KAK: 6>: 0,\n    <Koma.HSY: 7>: 0,\n    <Koma.GYK: 8>: 0},\n   {<Koma.NONE: 0>: 0,\n    <Koma.SHI: 1>: 0,\n    <Koma.GON: 2>: 1,\n    <Koma.UMA: 3>: 0,\n    <Koma.KIN: 4>: 0,\n    <Koma.GIN: 5>: 1,\n    <Koma.KAK: 6>: 0,\n    <Koma.HSY: 7>: 0,\n    <Koma.GYK: 8>: 0}],\n  'board': [[[['KIN', False], ['SHI', False]],\n    [['NONE', False], ['NONE', False]],\n    [['NONE', False], ['NONE', False]],\n    [['NONE', False], ['NONE', False]]],\n   [[['NONE', False], ['NONE', False]],\n    [['NONE', False], ['NONE', False]],\n    [['NONE', False], ['NONE', False]],\n    [['NONE', False], ['NONE', False]]],\n   [[['SHI', True], ['KAK', False]],\n    [['NONE', False], ['NONE', False]],\n    [['NONE', False], ['NONE', False]],\n    [['NONE', False], ['NONE', False]]],\n   [[['KAK', False], ['HSY', False]],\n    [['UMA', True], ['HSY', False]],\n    [['SHI', True], ['KIN', False]],\n    [['NONE', False], ['NONE', False]]]]},\n {'played_player': 2,\n  'behavior': -1,\n  'hands': [{<Koma.NONE: 0>: 0,\n    <Koma.SHI: 1>: 3,\n    <Koma.GON: 2>: 1,\n    <Koma.UMA: 3>: 1,\n    <Koma.KIN: 4>: 0,\n    <Koma.GIN: 5>: 0,\n    <Koma.KAK: 6>: 0,\n    <Koma.HSY: 7>: 0,\n    <Koma.GYK: 8>: 1},\n   {<Koma.NONE: 0>: 0,\n    <Koma.SHI: 1>: 1,\n    <Koma.GON: 2>: 1,\n    <Koma.UMA: 3>: 2,\n    <Koma.KIN: 4>: 1,\n    <Koma.GIN: 5>: 2,\n    <Koma.KAK: 6>: 0,\n    <Koma.HSY: 7>: 0,\n    <Koma.GYK: 8>: 1},\n   {<Koma.NONE: 0>: 0,\n    <Koma.SHI: 1>: 3,\n    <Koma.GON: 2>: 1,\n    <Koma.UMA: 3>: 0,\n    <Koma.KIN: 4>: 1,\n    <Koma.GIN: 5>: 1,\n    <Koma.KAK: 6>: 0,\n    <Koma.HSY: 7>: 0,\n    <Koma.GYK: 8>: 0},\n   {<Koma.NONE: 0>: 0,\n    <Koma.SHI: 1>: 0,\n    <Koma.GON: 2>: 1,\n    <Koma.UMA: 3>: 0,\n    <Koma.KIN: 4>: 0,\n    <Koma.GIN: 5>: 1,\n    <Koma.KAK: 6>: 0,\n    <Koma.HSY: 7>: 0,\n    <Koma.GYK: 8>: 0}],\n  'board': [[[['KIN', False], ['SHI', False]],\n    [['NONE', False], ['NONE', False]],\n    [['NONE', False], ['NONE', False]],\n    [['NONE', False], ['NONE', False]]],\n   [[['NONE', False], ['NONE', False]],\n    [['NONE', False], ['NONE', False]],\n    [['NONE', False], ['NONE', False]],\n    [['NONE', False], ['NONE', False]]],\n   [[['SHI', True], ['KAK', False]],\n    [['NONE', False], ['NONE', False]],\n    [['NONE', False], ['NONE', False]],\n    [['NONE', False], ['NONE', False]]],\n   [[['KAK', False], ['HSY', False]],\n    [['UMA', True], ['HSY', False]],\n    [['SHI', True], ['KIN', False]],\n    [['NONE', False], ['NONE', False]]]]},\n {'played_player': 3,\n  'behavior': -1,\n  'hands': [{<Koma.NONE: 0>: 0,\n    <Koma.SHI: 1>: 3,\n    <Koma.GON: 2>: 1,\n    <Koma.UMA: 3>: 1,\n    <Koma.KIN: 4>: 0,\n    <Koma.GIN: 5>: 0,\n    <Koma.KAK: 6>: 0,\n    <Koma.HSY: 7>: 0,\n    <Koma.GYK: 8>: 1},\n   {<Koma.NONE: 0>: 0,\n    <Koma.SHI: 1>: 1,\n    <Koma.GON: 2>: 1,\n    <Koma.UMA: 3>: 2,\n    <Koma.KIN: 4>: 1,\n    <Koma.GIN: 5>: 2,\n    <Koma.KAK: 6>: 0,\n    <Koma.HSY: 7>: 0,\n    <Koma.GYK: 8>: 1},\n   {<Koma.NONE: 0>: 0,\n    <Koma.SHI: 1>: 3,\n    <Koma.GON: 2>: 1,\n    <Koma.UMA: 3>: 0,\n    <Koma.KIN: 4>: 1,\n    <Koma.GIN: 5>: 1,\n    <Koma.KAK: 6>: 0,\n    <Koma.HSY: 7>: 0,\n    <Koma.GYK: 8>: 0},\n   {<Koma.NONE: 0>: 0,\n    <Koma.SHI: 1>: 0,\n    <Koma.GON: 2>: 1,\n    <Koma.UMA: 3>: 0,\n    <Koma.KIN: 4>: 0,\n    <Koma.GIN: 5>: 1,\n    <Koma.KAK: 6>: 0,\n    <Koma.HSY: 7>: 0,\n    <Koma.GYK: 8>: 0}],\n  'board': [[[['KIN', False], ['SHI', False]],\n    [['NONE', False], ['NONE', False]],\n    [['NONE', False], ['NONE', False]],\n    [['NONE', False], ['NONE', False]]],\n   [[['NONE', False], ['NONE', False]],\n    [['NONE', False], ['NONE', False]],\n    [['NONE', False], ['NONE', False]],\n    [['NONE', False], ['NONE', False]]],\n   [[['SHI', True], ['KAK', False]],\n    [['NONE', False], ['NONE', False]],\n    [['NONE', False], ['NONE', False]],\n    [['NONE', False], ['NONE', False]]],\n   [[['KAK', False], ['HSY', False]],\n    [['UMA', True], ['HSY', False]],\n    [['SHI', True], ['KIN', False]],\n    [['NONE', False], ['NONE', False]]]]},\n {'played_player': 0,\n  'behavior': 1,\n  'hands': [{<Koma.NONE: 0>: 0,\n    <Koma.SHI: 1>: 1,\n    <Koma.GON: 2>: 1,\n    <Koma.UMA: 3>: 1,\n    <Koma.KIN: 4>: 0,\n    <Koma.GIN: 5>: 0,\n    <Koma.KAK: 6>: 0,\n    <Koma.HSY: 7>: 0,\n    <Koma.GYK: 8>: 1},\n   {<Koma.NONE: 0>: 0,\n    <Koma.SHI: 1>: 1,\n    <Koma.GON: 2>: 1,\n    <Koma.UMA: 3>: 2,\n    <Koma.KIN: 4>: 1,\n    <Koma.GIN: 5>: 2,\n    <Koma.KAK: 6>: 0,\n    <Koma.HSY: 7>: 0,\n    <Koma.GYK: 8>: 1},\n   {<Koma.NONE: 0>: 0,\n    <Koma.SHI: 1>: 3,\n    <Koma.GON: 2>: 1,\n    <Koma.UMA: 3>: 0,\n    <Koma.KIN: 4>: 1,\n    <Koma.GIN: 5>: 1,\n    <Koma.KAK: 6>: 0,\n    <Koma.HSY: 7>: 0,\n    <Koma.GYK: 8>: 0},\n   {<Koma.NONE: 0>: 0,\n    <Koma.SHI: 1>: 0,\n    <Koma.GON: 2>: 1,\n    <Koma.UMA: 3>: 0,\n    <Koma.KIN: 4>: 0,\n    <Koma.GIN: 5>: 1,\n    <Koma.KAK: 6>: 0,\n    <Koma.HSY: 7>: 0,\n    <Koma.GYK: 8>: 0}],\n  'board': [[[['KIN', False], ['SHI', False]],\n    [['SHI', True], ['SHI', False]],\n    [['NONE', False], ['NONE', False]],\n    [['NONE', False], ['NONE', False]]],\n   [[['NONE', False], ['NONE', False]],\n    [['NONE', False], ['NONE', False]],\n    [['NONE', False], ['NONE', False]],\n    [['NONE', False], ['NONE', False]]],\n   [[['SHI', True], ['KAK', False]],\n    [['NONE', False], ['NONE', False]],\n    [['NONE', False], ['NONE', False]],\n    [['NONE', False], ['NONE', False]]],\n   [[['KAK', False], ['HSY', False]],\n    [['UMA', True], ['HSY', False]],\n    [['SHI', True], ['KIN', False]],\n    [['NONE', False], ['NONE', False]]]]},\n {'played_player': 1,\n  'behavior': 5,\n  'hands': [{<Koma.NONE: 0>: 0,\n    <Koma.SHI: 1>: 1,\n    <Koma.GON: 2>: 1,\n    <Koma.UMA: 3>: 1,\n    <Koma.KIN: 4>: 0,\n    <Koma.GIN: 5>: 0,\n    <Koma.KAK: 6>: 0,\n    <Koma.HSY: 7>: 0,\n    <Koma.GYK: 8>: 1},\n   {<Koma.NONE: 0>: 0,\n    <Koma.SHI: 1>: 0,\n    <Koma.GON: 2>: 1,\n    <Koma.UMA: 3>: 2,\n    <Koma.KIN: 4>: 1,\n    <Koma.GIN: 5>: 1,\n    <Koma.KAK: 6>: 0,\n    <Koma.HSY: 7>: 0,\n    <Koma.GYK: 8>: 1},\n   {<Koma.NONE: 0>: 0,\n    <Koma.SHI: 1>: 3,\n    <Koma.GON: 2>: 1,\n    <Koma.UMA: 3>: 0,\n    <Koma.KIN: 4>: 1,\n    <Koma.GIN: 5>: 1,\n    <Koma.KAK: 6>: 0,\n    <Koma.HSY: 7>: 0,\n    <Koma.GYK: 8>: 0},\n   {<Koma.NONE: 0>: 0,\n    <Koma.SHI: 1>: 0,\n    <Koma.GON: 2>: 1,\n    <Koma.UMA: 3>: 0,\n    <Koma.KIN: 4>: 0,\n    <Koma.GIN: 5>: 1,\n    <Koma.KAK: 6>: 0,\n    <Koma.HSY: 7>: 0,\n    <Koma.GYK: 8>: 0}],\n  'board': [[[['KIN', False], ['SHI', False]],\n    [['SHI', True], ['SHI', False]],\n    [['NONE', False], ['NONE', False]],\n    [['NONE', False], ['NONE', False]]],\n   [[['SHI', False], ['GIN', False]],\n    [['NONE', False], ['NONE', False]],\n    [['NONE', False], ['NONE', False]],\n    [['NONE', False], ['NONE', False]]],\n   [[['SHI', True], ['KAK', False]],\n    [['NONE', False], ['NONE', False]],\n    [['NONE', False], ['NONE', False]],\n    [['NONE', False], ['NONE', False]]],\n   [[['KAK', False], ['HSY', False]],\n    [['UMA', True], ['HSY', False]],\n    [['SHI', True], ['KIN', False]],\n    [['NONE', False], ['NONE', False]]]]},\n {'played_player': 2,\n  'behavior': 1,\n  'hands': [{<Koma.NONE: 0>: 0,\n    <Koma.SHI: 1>: 1,\n    <Koma.GON: 2>: 1,\n    <Koma.UMA: 3>: 1,\n    <Koma.KIN: 4>: 0,\n    <Koma.GIN: 5>: 0,\n    <Koma.KAK: 6>: 0,\n    <Koma.HSY: 7>: 0,\n    <Koma.GYK: 8>: 1},\n   {<Koma.NONE: 0>: 0,\n    <Koma.SHI: 1>: 0,\n    <Koma.GON: 2>: 1,\n    <Koma.UMA: 3>: 2,\n    <Koma.KIN: 4>: 1,\n    <Koma.GIN: 5>: 1,\n    <Koma.KAK: 6>: 0,\n    <Koma.HSY: 7>: 0,\n    <Koma.GYK: 8>: 1},\n   {<Koma.NONE: 0>: 0,\n    <Koma.SHI: 1>: 2,\n    <Koma.GON: 2>: 1,\n    <Koma.UMA: 3>: 0,\n    <Koma.KIN: 4>: 1,\n    <Koma.GIN: 5>: 0,\n    <Koma.KAK: 6>: 0,\n    <Koma.HSY: 7>: 0,\n    <Koma.GYK: 8>: 0},\n   {<Koma.NONE: 0>: 0,\n    <Koma.SHI: 1>: 0,\n    <Koma.GON: 2>: 1,\n    <Koma.UMA: 3>: 0,\n    <Koma.KIN: 4>: 0,\n    <Koma.GIN: 5>: 1,\n    <Koma.KAK: 6>: 0,\n    <Koma.HSY: 7>: 0,\n    <Koma.GYK: 8>: 0}],\n  'board': [[[['KIN', False], ['SHI', False]],\n    [['SHI', True], ['SHI', False]],\n    [['NONE', False], ['NONE', False]],\n    [['NONE', False], ['NONE', False]]],\n   [[['SHI', False], ['GIN', False]],\n    [['NONE', False], ['NONE', False]],\n    [['NONE', False], ['NONE', False]],\n    [['NONE', False], ['NONE', False]]],\n   [[['SHI', True], ['KAK', False]],\n    [['GIN', False], ['SHI', False]],\n    [['NONE', False], ['NONE', False]],\n    [['NONE', False], ['NONE', False]]],\n   [[['KAK', False], ['HSY', False]],\n    [['UMA', True], ['HSY', False]],\n    [['SHI', True], ['KIN', False]],\n    [['NONE', False], ['NONE', False]]]]},\n {'played_player': 3,\n  'behavior': -1,\n  'hands': [{<Koma.NONE: 0>: 0,\n    <Koma.SHI: 1>: 1,\n    <Koma.GON: 2>: 1,\n    <Koma.UMA: 3>: 1,\n    <Koma.KIN: 4>: 0,\n    <Koma.GIN: 5>: 0,\n    <Koma.KAK: 6>: 0,\n    <Koma.HSY: 7>: 0,\n    <Koma.GYK: 8>: 1},\n   {<Koma.NONE: 0>: 0,\n    <Koma.SHI: 1>: 0,\n    <Koma.GON: 2>: 1,\n    <Koma.UMA: 3>: 2,\n    <Koma.KIN: 4>: 1,\n    <Koma.GIN: 5>: 1,\n    <Koma.KAK: 6>: 0,\n    <Koma.HSY: 7>: 0,\n    <Koma.GYK: 8>: 1},\n   {<Koma.NONE: 0>: 0,\n    <Koma.SHI: 1>: 2,\n    <Koma.GON: 2>: 1,\n    <Koma.UMA: 3>: 0,\n    <Koma.KIN: 4>: 1,\n    <Koma.GIN: 5>: 0,\n    <Koma.KAK: 6>: 0,\n    <Koma.HSY: 7>: 0,\n    <Koma.GYK: 8>: 0},\n   {<Koma.NONE: 0>: 0,\n    <Koma.SHI: 1>: 0,\n    <Koma.GON: 2>: 1,\n    <Koma.UMA: 3>: 0,\n    <Koma.KIN: 4>: 0,\n    <Koma.GIN: 5>: 1,\n    <Koma.KAK: 6>: 0,\n    <Koma.HSY: 7>: 0,\n    <Koma.GYK: 8>: 0}],\n  'board': [[[['KIN', False], ['SHI', False]],\n    [['SHI', True], ['SHI', False]],\n    [['NONE', False], ['NONE', False]],\n    [['NONE', False], ['NONE', False]]],\n   [[['SHI', False], ['GIN', False]],\n    [['NONE', False], ['NONE', False]],\n    [['NONE', False], ['NONE', False]],\n    [['NONE', False], ['NONE', False]]],\n   [[['SHI', True], ['KAK', False]],\n    [['GIN', False], ['SHI', False]],\n    [['NONE', False], ['NONE', False]],\n    [['NONE', False], ['NONE', False]]],\n   [[['KAK', False], ['HSY', False]],\n    [['UMA', True], ['HSY', False]],\n    [['SHI', True], ['KIN', False]],\n    [['NONE', False], ['NONE', False]]]]},\n {'played_player': 0,\n  'behavior': -1,\n  'hands': [{<Koma.NONE: 0>: 0,\n    <Koma.SHI: 1>: 1,\n    <Koma.GON: 2>: 1,\n    <Koma.UMA: 3>: 1,\n    <Koma.KIN: 4>: 0,\n    <Koma.GIN: 5>: 0,\n    <Koma.KAK: 6>: 0,\n    <Koma.HSY: 7>: 0,\n    <Koma.GYK: 8>: 1},\n   {<Koma.NONE: 0>: 0,\n    <Koma.SHI: 1>: 0,\n    <Koma.GON: 2>: 1,\n    <Koma.UMA: 3>: 2,\n    <Koma.KIN: 4>: 1,\n    <Koma.GIN: 5>: 1,\n    <Koma.KAK: 6>: 0,\n    <Koma.HSY: 7>: 0,\n    <Koma.GYK: 8>: 1},\n   {<Koma.NONE: 0>: 0,\n    <Koma.SHI: 1>: 2,\n    <Koma.GON: 2>: 1,\n    <Koma.UMA: 3>: 0,\n    <Koma.KIN: 4>: 1,\n    <Koma.GIN: 5>: 0,\n    <Koma.KAK: 6>: 0,\n    <Koma.HSY: 7>: 0,\n    <Koma.GYK: 8>: 0},\n   {<Koma.NONE: 0>: 0,\n    <Koma.SHI: 1>: 0,\n    <Koma.GON: 2>: 1,\n    <Koma.UMA: 3>: 0,\n    <Koma.KIN: 4>: 0,\n    <Koma.GIN: 5>: 1,\n    <Koma.KAK: 6>: 0,\n    <Koma.HSY: 7>: 0,\n    <Koma.GYK: 8>: 0}],\n  'board': [[[['KIN', False], ['SHI', False]],\n    [['SHI', True], ['SHI', False]],\n    [['NONE', False], ['NONE', False]],\n    [['NONE', False], ['NONE', False]]],\n   [[['SHI', False], ['GIN', False]],\n    [['NONE', False], ['NONE', False]],\n    [['NONE', False], ['NONE', False]],\n    [['NONE', False], ['NONE', False]]],\n   [[['SHI', True], ['KAK', False]],\n    [['GIN', False], ['SHI', False]],\n    [['NONE', False], ['NONE', False]],\n    [['NONE', False], ['NONE', False]]],\n   [[['KAK', False], ['HSY', False]],\n    [['UMA', True], ['HSY', False]],\n    [['SHI', True], ['KIN', False]],\n    [['NONE', False], ['NONE', False]]]]},\n {'played_player': 1,\n  'behavior': -1,\n  'hands': [{<Koma.NONE: 0>: 0,\n    <Koma.SHI: 1>: 1,\n    <Koma.GON: 2>: 1,\n    <Koma.UMA: 3>: 1,\n    <Koma.KIN: 4>: 0,\n    <Koma.GIN: 5>: 0,\n    <Koma.KAK: 6>: 0,\n    <Koma.HSY: 7>: 0,\n    <Koma.GYK: 8>: 1},\n   {<Koma.NONE: 0>: 0,\n    <Koma.SHI: 1>: 0,\n    <Koma.GON: 2>: 1,\n    <Koma.UMA: 3>: 2,\n    <Koma.KIN: 4>: 1,\n    <Koma.GIN: 5>: 1,\n    <Koma.KAK: 6>: 0,\n    <Koma.HSY: 7>: 0,\n    <Koma.GYK: 8>: 1},\n   {<Koma.NONE: 0>: 0,\n    <Koma.SHI: 1>: 2,\n    <Koma.GON: 2>: 1,\n    <Koma.UMA: 3>: 0,\n    <Koma.KIN: 4>: 1,\n    <Koma.GIN: 5>: 0,\n    <Koma.KAK: 6>: 0,\n    <Koma.HSY: 7>: 0,\n    <Koma.GYK: 8>: 0},\n   {<Koma.NONE: 0>: 0,\n    <Koma.SHI: 1>: 0,\n    <Koma.GON: 2>: 1,\n    <Koma.UMA: 3>: 0,\n    <Koma.KIN: 4>: 0,\n    <Koma.GIN: 5>: 1,\n    <Koma.KAK: 6>: 0,\n    <Koma.HSY: 7>: 0,\n    <Koma.GYK: 8>: 0}],\n  'board': [[[['KIN', False], ['SHI', False]],\n    [['SHI', True], ['SHI', False]],\n    [['NONE', False], ['NONE', False]],\n    [['NONE', False], ['NONE', False]]],\n   [[['SHI', False], ['GIN', False]],\n    [['NONE', False], ['NONE', False]],\n    [['NONE', False], ['NONE', False]],\n    [['NONE', False], ['NONE', False]]],\n   [[['SHI', True], ['KAK', False]],\n    [['GIN', False], ['SHI', False]],\n    [['NONE', False], ['NONE', False]],\n    [['NONE', False], ['NONE', False]]],\n   [[['KAK', False], ['HSY', False]],\n    [['UMA', True], ['HSY', False]],\n    [['SHI', True], ['KIN', False]],\n    [['NONE', False], ['NONE', False]]]]},\n {'played_player': 2,\n  'behavior': 1,\n  'hands': [{<Koma.NONE: 0>: 0,\n    <Koma.SHI: 1>: 1,\n    <Koma.GON: 2>: 1,\n    <Koma.UMA: 3>: 1,\n    <Koma.KIN: 4>: 0,\n    <Koma.GIN: 5>: 0,\n    <Koma.KAK: 6>: 0,\n    <Koma.HSY: 7>: 0,\n    <Koma.GYK: 8>: 1},\n   {<Koma.NONE: 0>: 0,\n    <Koma.SHI: 1>: 0,\n    <Koma.GON: 2>: 1,\n    <Koma.UMA: 3>: 2,\n    <Koma.KIN: 4>: 1,\n    <Koma.GIN: 5>: 1,\n    <Koma.KAK: 6>: 0,\n    <Koma.HSY: 7>: 0,\n    <Koma.GYK: 8>: 1},\n   {<Koma.NONE: 0>: 0,\n    <Koma.SHI: 1>: 0,\n    <Koma.GON: 2>: 1,\n    <Koma.UMA: 3>: 0,\n    <Koma.KIN: 4>: 1,\n    <Koma.GIN: 5>: 0,\n    <Koma.KAK: 6>: 0,\n    <Koma.HSY: 7>: 0,\n    <Koma.GYK: 8>: 0},\n   {<Koma.NONE: 0>: 0,\n    <Koma.SHI: 1>: 0,\n    <Koma.GON: 2>: 1,\n    <Koma.UMA: 3>: 0,\n    <Koma.KIN: 4>: 0,\n    <Koma.GIN: 5>: 1,\n    <Koma.KAK: 6>: 0,\n    <Koma.HSY: 7>: 0,\n    <Koma.GYK: 8>: 0}],\n  'board': [[[['KIN', False], ['SHI', False]],\n    [['SHI', True], ['SHI', False]],\n    [['NONE', False], ['NONE', False]],\n    [['NONE', False], ['NONE', False]]],\n   [[['SHI', False], ['GIN', False]],\n    [['NONE', False], ['NONE', False]],\n    [['NONE', False], ['NONE', False]],\n    [['NONE', False], ['NONE', False]]],\n   [[['SHI', True], ['KAK', False]],\n    [['GIN', False], ['SHI', False]],\n    [['SHI', True], ['SHI', False]],\n    [['NONE', False], ['NONE', False]]],\n   [[['KAK', False], ['HSY', False]],\n    [['UMA', True], ['HSY', False]],\n    [['SHI', True], ['KIN', False]],\n    [['NONE', False], ['NONE', False]]]]},\n {'played_player': 3,\n  'behavior': -1,\n  'hands': [{<Koma.NONE: 0>: 0,\n    <Koma.SHI: 1>: 1,\n    <Koma.GON: 2>: 1,\n    <Koma.UMA: 3>: 1,\n    <Koma.KIN: 4>: 0,\n    <Koma.GIN: 5>: 0,\n    <Koma.KAK: 6>: 0,\n    <Koma.HSY: 7>: 0,\n    <Koma.GYK: 8>: 1},\n   {<Koma.NONE: 0>: 0,\n    <Koma.SHI: 1>: 0,\n    <Koma.GON: 2>: 1,\n    <Koma.UMA: 3>: 2,\n    <Koma.KIN: 4>: 1,\n    <Koma.GIN: 5>: 1,\n    <Koma.KAK: 6>: 0,\n    <Koma.HSY: 7>: 0,\n    <Koma.GYK: 8>: 1},\n   {<Koma.NONE: 0>: 0,\n    <Koma.SHI: 1>: 0,\n    <Koma.GON: 2>: 1,\n    <Koma.UMA: 3>: 0,\n    <Koma.KIN: 4>: 1,\n    <Koma.GIN: 5>: 0,\n    <Koma.KAK: 6>: 0,\n    <Koma.HSY: 7>: 0,\n    <Koma.GYK: 8>: 0},\n   {<Koma.NONE: 0>: 0,\n    <Koma.SHI: 1>: 0,\n    <Koma.GON: 2>: 1,\n    <Koma.UMA: 3>: 0,\n    <Koma.KIN: 4>: 0,\n    <Koma.GIN: 5>: 1,\n    <Koma.KAK: 6>: 0,\n    <Koma.HSY: 7>: 0,\n    <Koma.GYK: 8>: 0}],\n  'board': [[[['KIN', False], ['SHI', False]],\n    [['SHI', True], ['SHI', False]],\n    [['NONE', False], ['NONE', False]],\n    [['NONE', False], ['NONE', False]]],\n   [[['SHI', False], ['GIN', False]],\n    [['NONE', False], ['NONE', False]],\n    [['NONE', False], ['NONE', False]],\n    [['NONE', False], ['NONE', False]]],\n   [[['SHI', True], ['KAK', False]],\n    [['GIN', False], ['SHI', False]],\n    [['SHI', True], ['SHI', False]],\n    [['NONE', False], ['NONE', False]]],\n   [[['KAK', False], ['HSY', False]],\n    [['UMA', True], ['HSY', False]],\n    [['SHI', True], ['KIN', False]],\n    [['NONE', False], ['NONE', False]]]]},\n {'played_player': 0,\n  'behavior': -1,\n  'hands': [{<Koma.NONE: 0>: 0,\n    <Koma.SHI: 1>: 1,\n    <Koma.GON: 2>: 1,\n    <Koma.UMA: 3>: 1,\n    <Koma.KIN: 4>: 0,\n    <Koma.GIN: 5>: 0,\n    <Koma.KAK: 6>: 0,\n    <Koma.HSY: 7>: 0,\n    <Koma.GYK: 8>: 1},\n   {<Koma.NONE: 0>: 0,\n    <Koma.SHI: 1>: 0,\n    <Koma.GON: 2>: 1,\n    <Koma.UMA: 3>: 2,\n    <Koma.KIN: 4>: 1,\n    <Koma.GIN: 5>: 1,\n    <Koma.KAK: 6>: 0,\n    <Koma.HSY: 7>: 0,\n    <Koma.GYK: 8>: 1},\n   {<Koma.NONE: 0>: 0,\n    <Koma.SHI: 1>: 0,\n    <Koma.GON: 2>: 1,\n    <Koma.UMA: 3>: 0,\n    <Koma.KIN: 4>: 1,\n    <Koma.GIN: 5>: 0,\n    <Koma.KAK: 6>: 0,\n    <Koma.HSY: 7>: 0,\n    <Koma.GYK: 8>: 0},\n   {<Koma.NONE: 0>: 0,\n    <Koma.SHI: 1>: 0,\n    <Koma.GON: 2>: 1,\n    <Koma.UMA: 3>: 0,\n    <Koma.KIN: 4>: 0,\n    <Koma.GIN: 5>: 1,\n    <Koma.KAK: 6>: 0,\n    <Koma.HSY: 7>: 0,\n    <Koma.GYK: 8>: 0}],\n  'board': [[[['KIN', False], ['SHI', False]],\n    [['SHI', True], ['SHI', False]],\n    [['NONE', False], ['NONE', False]],\n    [['NONE', False], ['NONE', False]]],\n   [[['SHI', False], ['GIN', False]],\n    [['NONE', False], ['NONE', False]],\n    [['NONE', False], ['NONE', False]],\n    [['NONE', False], ['NONE', False]]],\n   [[['SHI', True], ['KAK', False]],\n    [['GIN', False], ['SHI', False]],\n    [['SHI', True], ['SHI', False]],\n    [['NONE', False], ['NONE', False]]],\n   [[['KAK', False], ['HSY', False]],\n    [['UMA', True], ['HSY', False]],\n    [['SHI', True], ['KIN', False]],\n    [['NONE', False], ['NONE', False]]]]},\n {'played_player': 1,\n  'behavior': -1,\n  'hands': [{<Koma.NONE: 0>: 0,\n    <Koma.SHI: 1>: 1,\n    <Koma.GON: 2>: 1,\n    <Koma.UMA: 3>: 1,\n    <Koma.KIN: 4>: 0,\n    <Koma.GIN: 5>: 0,\n    <Koma.KAK: 6>: 0,\n    <Koma.HSY: 7>: 0,\n    <Koma.GYK: 8>: 1},\n   {<Koma.NONE: 0>: 0,\n    <Koma.SHI: 1>: 0,\n    <Koma.GON: 2>: 1,\n    <Koma.UMA: 3>: 2,\n    <Koma.KIN: 4>: 1,\n    <Koma.GIN: 5>: 1,\n    <Koma.KAK: 6>: 0,\n    <Koma.HSY: 7>: 0,\n    <Koma.GYK: 8>: 1},\n   {<Koma.NONE: 0>: 0,\n    <Koma.SHI: 1>: 0,\n    <Koma.GON: 2>: 1,\n    <Koma.UMA: 3>: 0,\n    <Koma.KIN: 4>: 1,\n    <Koma.GIN: 5>: 0,\n    <Koma.KAK: 6>: 0,\n    <Koma.HSY: 7>: 0,\n    <Koma.GYK: 8>: 0},\n   {<Koma.NONE: 0>: 0,\n    <Koma.SHI: 1>: 0,\n    <Koma.GON: 2>: 1,\n    <Koma.UMA: 3>: 0,\n    <Koma.KIN: 4>: 0,\n    <Koma.GIN: 5>: 1,\n    <Koma.KAK: 6>: 0,\n    <Koma.HSY: 7>: 0,\n    <Koma.GYK: 8>: 0}],\n  'board': [[[['KIN', False], ['SHI', False]],\n    [['SHI', True], ['SHI', False]],\n    [['NONE', False], ['NONE', False]],\n    [['NONE', False], ['NONE', False]]],\n   [[['SHI', False], ['GIN', False]],\n    [['NONE', False], ['NONE', False]],\n    [['NONE', False], ['NONE', False]],\n    [['NONE', False], ['NONE', False]]],\n   [[['SHI', True], ['KAK', False]],\n    [['GIN', False], ['SHI', False]],\n    [['SHI', True], ['SHI', False]],\n    [['NONE', False], ['NONE', False]]],\n   [[['KAK', False], ['HSY', False]],\n    [['UMA', True], ['HSY', False]],\n    [['SHI', True], ['KIN', False]],\n    [['NONE', False], ['NONE', False]]]]},\n {'played_player': 2,\n  'behavior': 4,\n  'hands': [{<Koma.NONE: 0>: 0,\n    <Koma.SHI: 1>: 1,\n    <Koma.GON: 2>: 1,\n    <Koma.UMA: 3>: 1,\n    <Koma.KIN: 4>: 0,\n    <Koma.GIN: 5>: 0,\n    <Koma.KAK: 6>: 0,\n    <Koma.HSY: 7>: 0,\n    <Koma.GYK: 8>: 1},\n   {<Koma.NONE: 0>: 0,\n    <Koma.SHI: 1>: 0,\n    <Koma.GON: 2>: 1,\n    <Koma.UMA: 3>: 2,\n    <Koma.KIN: 4>: 1,\n    <Koma.GIN: 5>: 1,\n    <Koma.KAK: 6>: 0,\n    <Koma.HSY: 7>: 0,\n    <Koma.GYK: 8>: 1},\n   {<Koma.NONE: 0>: 0,\n    <Koma.SHI: 1>: 0,\n    <Koma.GON: 2>: 0,\n    <Koma.UMA: 3>: 0,\n    <Koma.KIN: 4>: 0,\n    <Koma.GIN: 5>: 0,\n    <Koma.KAK: 6>: 0,\n    <Koma.HSY: 7>: 0,\n    <Koma.GYK: 8>: 0},\n   {<Koma.NONE: 0>: 0,\n    <Koma.SHI: 1>: 0,\n    <Koma.GON: 2>: 1,\n    <Koma.UMA: 3>: 0,\n    <Koma.KIN: 4>: 0,\n    <Koma.GIN: 5>: 1,\n    <Koma.KAK: 6>: 0,\n    <Koma.HSY: 7>: 0,\n    <Koma.GYK: 8>: 0}],\n  'board': [[[['KIN', False], ['SHI', False]],\n    [['SHI', True], ['SHI', False]],\n    [['NONE', False], ['NONE', False]],\n    [['NONE', False], ['NONE', False]]],\n   [[['SHI', False], ['GIN', False]],\n    [['NONE', False], ['NONE', False]],\n    [['NONE', False], ['NONE', False]],\n    [['NONE', False], ['NONE', False]]],\n   [[['SHI', True], ['KAK', False]],\n    [['GIN', False], ['SHI', False]],\n    [['SHI', True], ['SHI', False]],\n    [['GON', True], ['KIN', False]]],\n   [[['KAK', False], ['HSY', False]],\n    [['UMA', True], ['HSY', False]],\n    [['SHI', True], ['KIN', False]],\n    [['NONE', False], ['NONE', False]]]]}]"
     },
     "execution_count": 5,
     "metadata": {},
     "output_type": "execute_result"
    }
   ],
   "source": [
    "import pyGoita.GameMaster as gm\n",
    "import importlib\n",
    "importlib.reload(gm)\n",
    "master = gm.GameMaster(hands=convert_hands(log1[\"hand\"]))\n",
    "\n",
    "for play_log in log1[\"game\"]:\n",
    "    master.update_hand(int(play_log[0]),  km.Koma.from_str(play_log[2]), km.Koma.from_str(play_log[1]) )\n",
    "\n",
    "master.to_dict()"
   ],
   "metadata": {
    "collapsed": false,
    "ExecuteTime": {
     "end_time": "2023-05-06T15:30:23.349178Z",
     "start_time": "2023-05-06T15:30:23.283140Z"
    }
   }
  },
  {
   "cell_type": "code",
   "execution_count": 11,
   "outputs": [],
   "source": [
    "\"a\""
   ],
   "metadata": {
    "collapsed": false
   }
  },
  {
   "cell_type": "code",
   "execution_count": 9,
   "outputs": [
    {
     "name": "stdout",
     "output_type": "stream",
     "text": [
      "[<bound method GameLog.to_dict of <pyGoita.GameMaster.GameLog object at 0x104324370>>, <bound method GameLog.to_dict of <pyGoita.GameMaster.GameLog object at 0x103f56730>>, <bound method GameLog.to_dict of <pyGoita.GameMaster.GameLog object at 0x104324d30>>, <bound method GameLog.to_dict of <pyGoita.GameMaster.GameLog object at 0x104324c70>>, <bound method GameLog.to_dict of <pyGoita.GameMaster.GameLog object at 0x104322400>>, <bound method GameLog.to_dict of <pyGoita.GameMaster.GameLog object at 0x1043224c0>>, <bound method GameLog.to_dict of <pyGoita.GameMaster.GameLog object at 0x104322580>>, <bound method GameLog.to_dict of <pyGoita.GameMaster.GameLog object at 0x104324d90>>, <bound method GameLog.to_dict of <pyGoita.GameMaster.GameLog object at 0x104321b50>>, <bound method GameLog.to_dict of <pyGoita.GameMaster.GameLog object at 0x104321c10>>, <bound method GameLog.to_dict of <pyGoita.GameMaster.GameLog object at 0x104325100>>, <bound method GameLog.to_dict of <pyGoita.GameMaster.GameLog object at 0x1043227c0>>, <bound method GameLog.to_dict of <pyGoita.GameMaster.GameLog object at 0x104325ca0>>, <bound method GameLog.to_dict of <pyGoita.GameMaster.GameLog object at 0x10432a9d0>>, <bound method GameLog.to_dict of <pyGoita.GameMaster.GameLog object at 0x10432aa90>>, <bound method GameLog.to_dict of <pyGoita.GameMaster.GameLog object at 0x10432ad90>>, <bound method GameLog.to_dict of <pyGoita.GameMaster.GameLog object at 0x10432f0d0>>, <bound method GameLog.to_dict of <pyGoita.GameMaster.GameLog object at 0x104331730>>, <bound method GameLog.to_dict of <pyGoita.GameMaster.GameLog object at 0x10432f130>>, <bound method GameLog.to_dict of <pyGoita.GameMaster.GameLog object at 0x104332df0>>, <bound method GameLog.to_dict of <pyGoita.GameMaster.GameLog object at 0x104332eb0>>, <bound method GameLog.to_dict of <pyGoita.GameMaster.GameLog object at 0x104334070>>, <bound method GameLog.to_dict of <pyGoita.GameMaster.GameLog object at 0x104331910>>, <bound method GameLog.to_dict of <pyGoita.GameMaster.GameLog object at 0x1043375b0>>, <bound method GameLog.to_dict of <pyGoita.GameMaster.GameLog object at 0x104337670>>, <bound method GameLog.to_dict of <pyGoita.GameMaster.GameLog object at 0x104337790>>]\n"
     ]
    }
   ],
   "source": [
    "print(master.to_dict())"
   ],
   "metadata": {
    "collapsed": false,
    "ExecuteTime": {
     "end_time": "2023-05-06T12:22:36.641586Z",
     "start_time": "2023-05-06T12:22:36.638743Z"
    }
   }
  },
  {
   "cell_type": "code",
   "execution_count": 9,
   "outputs": [
    {
     "data": {
      "text/plain": "<Koma.SHI: 1>"
     },
     "execution_count": 9,
     "metadata": {},
     "output_type": "execute_result"
    }
   ],
   "source": [
    "from pyGoita.GoitaBoard import BoardKoma\n",
    "from pyGoita.Koma import Koma\n",
    "koma = BoardKoma(koma=Koma.SHI, is_reversed=False)\n",
    "koma.koma"
   ],
   "metadata": {
    "collapsed": false,
    "ExecuteTime": {
     "end_time": "2023-05-06T15:25:40.143023Z",
     "start_time": "2023-05-06T15:25:40.139532Z"
    }
   }
  }
 ],
 "metadata": {
  "kernelspec": {
   "display_name": "Python 3",
   "language": "python",
   "name": "python3"
  },
  "language_info": {
   "codemirror_mode": {
    "name": "ipython",
    "version": 2
   },
   "file_extension": ".py",
   "mimetype": "text/x-python",
   "name": "python",
   "nbconvert_exporter": "python",
   "pygments_lexer": "ipython2",
   "version": "2.7.6"
  }
 },
 "nbformat": 4,
 "nbformat_minor": 0
}
